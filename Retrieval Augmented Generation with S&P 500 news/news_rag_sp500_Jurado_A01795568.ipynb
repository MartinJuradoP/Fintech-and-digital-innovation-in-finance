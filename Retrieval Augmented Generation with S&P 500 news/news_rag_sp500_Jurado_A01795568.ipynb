{
 "cells": [
  {
   "cell_type": "markdown",
   "id": "4e231d13",
   "metadata": {},
   "source": [
    "# Introduction to Retrieval Augmented Generation with S&P 500 news\n",
    "\n",
    "In this notebook, you will explore how to build a simple Retrieval-Augmented Generation (RAG) pipeline using financial news articles from S&P 500 companies.\n",
    "\n",
    "We'll start by vectorizing text data, creating a vector store using FAISS, and integrating it with OpenAI's GPT models to answer questions using retrieved information.\n",
    "\n",
    "This workflow emulates real-world systems in finance where natural language data (news, filings, analyst reports) are used to support decision-making."
   ]
  },
  {
   "cell_type": "markdown",
   "id": "35b70aaa",
   "metadata": {},
   "source": [
    "# 📌 Objectives\n",
    "\n",
    "By the end of this notebook, students will be able to:\n",
    "\n",
    "1. **Perform Semantic Search with Metadata Filtering:**\n",
    "   - Query the provided FAISS vector store to retrieve relevant financial news articles based on natural language questions.\n",
    "   - Apply optional filters using metadata such as ticker or publication date to refine search results.\n",
    "\n",
    "2. **Enrich Data with Company Metadata:**\n",
    "   - Use the `yfinance` library to retrieve company-level metadata (company name, sector, industry) for tickers in the dataset.\n",
    "   - Integrate this metadata to support enhanced filtering and analysis of news data.\n",
    "\n",
    "3. **Build a Retrieval-Augmented Generation (RAG) Pipeline:**\n",
    "   - Combine retrieved news snippets as context to generate answers using OpenAI’s GPT models.\n",
    "   - Construct effective prompts that guide the language model to provide concise, context-aware responses.\n",
    "\n",
    "4. **Evaluate and Analyze RAG Outputs:**\n",
    "   - Review generated answers alongside the supporting news excerpts.\n",
    "   - Reflect on the strengths and limitations of the simple RAG pipeline and consider potential improvements, such as adding more filters or refining retrieval strategies.\n",
    "\n",
    "5. **Incorporate Financial Metadata into Retrieval Context:**\n",
    "   - Enrich retrieved news snippets with key financial metadata including ticker, company name, sector, and industry.\n",
    "   - Format prompts that combine both text excerpts and metadata to provide richer context to the language model.\n",
    "\n",
    "6. **Generate Context-Aware Answers Using OpenAI Models:**\n",
    "   - Construct and send prompts to an LLM that leverage both news content and metadata to produce concise, informed financial analysis.\n",
    "\n",
    "7. **Compare Answers With and Without Metadata:**\n",
    "   - Evaluate the impact of including financial metadata on answer quality using criteria such as clarity, detail, accuracy, and contextual relevance.\n",
    "   - Summarize findings to reflect on the role of metadata in improving retrieval-augmented generation."
   ]
  },
  {
   "cell_type": "markdown",
   "id": "c1034130",
   "metadata": {},
   "source": [
    "## Install and Import important librairies\n",
    "\n",
    "First, we install and import the necessary libraries for:\n",
    "- Text embedding generation (sentence-transformers)\n",
    "- Efficient similarity search (faiss)\n",
    "- Data manipulation (pandas, numpy)\n",
    "- Visualization (matplotlib)\n",
    "\n",
    "> ℹ️ FAISS uses inner product for cosine similarity by normalizing vectors."
   ]
  },
  {
   "cell_type": "code",
   "execution_count": 1,
   "id": "6b9f8680",
   "metadata": {},
   "outputs": [],
   "source": [
    "from sentence_transformers import SentenceTransformer\n",
    "import faiss\n",
    "import pandas as pd\n",
    "import numpy as np\n",
    "from sklearn.metrics.pairwise import cosine_similarity\n",
    "from collections import Counter\n",
    "import matplotlib.pyplot as plt\n",
    "import faiss\n",
    "from dotenv import load_dotenv\n",
    "import os\n",
    "import yfinance as yf\n",
    "import time\n",
    "import httpx\n",
    "import textwrap"
   ]
  },
  {
   "cell_type": "markdown",
   "id": "9850dbaa",
   "metadata": {},
   "source": [
    "## Load news data\n",
    "We load a CSV file of financial news, focusing on TITLE and SUMMARY, along with metadata like TICKER and PUBLICATION_DATE.\n",
    "These will be embedded into vectors and used for semantic retrieval."
   ]
  },
  {
   "cell_type": "code",
   "execution_count": 2,
   "id": "a090ca1c",
   "metadata": {},
   "outputs": [],
   "source": [
    "K = 25"
   ]
  },
  {
   "cell_type": "code",
   "execution_count": 3,
   "id": "2e00999d",
   "metadata": {},
   "outputs": [
    {
     "data": {
      "text/html": [
       "<div>\n",
       "<style scoped>\n",
       "    .dataframe tbody tr th:only-of-type {\n",
       "        vertical-align: middle;\n",
       "    }\n",
       "\n",
       "    .dataframe tbody tr th {\n",
       "        vertical-align: top;\n",
       "    }\n",
       "\n",
       "    .dataframe thead th {\n",
       "        text-align: right;\n",
       "    }\n",
       "</style>\n",
       "<table border=\"1\" class=\"dataframe\">\n",
       "  <thead>\n",
       "    <tr style=\"text-align: right;\">\n",
       "      <th></th>\n",
       "      <th>TICKER</th>\n",
       "      <th>TITLE</th>\n",
       "      <th>SUMMARY</th>\n",
       "      <th>PUBLICATION_DATE</th>\n",
       "      <th>PROVIDER</th>\n",
       "      <th>URL</th>\n",
       "    </tr>\n",
       "  </thead>\n",
       "  <tbody>\n",
       "    <tr>\n",
       "      <th>0</th>\n",
       "      <td>MMM</td>\n",
       "      <td>2 Dow Jones Stocks with Promising Prospects an...</td>\n",
       "      <td>The Dow Jones (^DJI) is made up of 30 of the m...</td>\n",
       "      <td>2025-05-29</td>\n",
       "      <td>StockStory</td>\n",
       "      <td>https://finance.yahoo.com/news/2-dow-jones-sto...</td>\n",
       "    </tr>\n",
       "    <tr>\n",
       "      <th>1</th>\n",
       "      <td>MMM</td>\n",
       "      <td>3 S&amp;P 500 Stocks Skating on Thin Ice</td>\n",
       "      <td>The S&amp;P 500 (^GSPC) is often seen as a benchma...</td>\n",
       "      <td>2025-05-27</td>\n",
       "      <td>StockStory</td>\n",
       "      <td>https://finance.yahoo.com/news/3-p-500-stocks-...</td>\n",
       "    </tr>\n",
       "    <tr>\n",
       "      <th>2</th>\n",
       "      <td>MMM</td>\n",
       "      <td>3M Rises 15.8% YTD: Should You Buy the Stock N...</td>\n",
       "      <td>MMM is making strides in the aerospace, indust...</td>\n",
       "      <td>2025-05-22</td>\n",
       "      <td>Zacks</td>\n",
       "      <td>https://finance.yahoo.com/news/3m-rises-15-8-y...</td>\n",
       "    </tr>\n",
       "    <tr>\n",
       "      <th>3</th>\n",
       "      <td>MMM</td>\n",
       "      <td>Q1 Earnings Roundup: 3M (NYSE:MMM) And The Res...</td>\n",
       "      <td>Quarterly earnings results are a good time to ...</td>\n",
       "      <td>2025-05-22</td>\n",
       "      <td>StockStory</td>\n",
       "      <td>https://finance.yahoo.com/news/q1-earnings-rou...</td>\n",
       "    </tr>\n",
       "    <tr>\n",
       "      <th>4</th>\n",
       "      <td>MMM</td>\n",
       "      <td>3 Cash-Producing Stocks with Questionable Fund...</td>\n",
       "      <td>While strong cash flow is a key indicator of s...</td>\n",
       "      <td>2025-05-19</td>\n",
       "      <td>StockStory</td>\n",
       "      <td>https://finance.yahoo.com/news/3-cash-producin...</td>\n",
       "    </tr>\n",
       "    <tr>\n",
       "      <th>...</th>\n",
       "      <td>...</td>\n",
       "      <td>...</td>\n",
       "      <td>...</td>\n",
       "      <td>...</td>\n",
       "      <td>...</td>\n",
       "      <td>...</td>\n",
       "    </tr>\n",
       "    <tr>\n",
       "      <th>4866</th>\n",
       "      <td>ZTS</td>\n",
       "      <td>2 Dividend Stocks to Buy With $500 and Hold Fo...</td>\n",
       "      <td>Zoetis is a leading animal health company with...</td>\n",
       "      <td>2025-05-23</td>\n",
       "      <td>Motley Fool</td>\n",
       "      <td>https://www.fool.com/investing/2025/05/23/2-di...</td>\n",
       "    </tr>\n",
       "    <tr>\n",
       "      <th>4867</th>\n",
       "      <td>ZTS</td>\n",
       "      <td>Zoetis (NYSE:ZTS) Declares US$0.50 Dividend Pe...</td>\n",
       "      <td>Zoetis (NYSE:ZTS) recently affirmed a dividend...</td>\n",
       "      <td>2025-05-22</td>\n",
       "      <td>Simply Wall St.</td>\n",
       "      <td>https://finance.yahoo.com/news/zoetis-nyse-zts...</td>\n",
       "    </tr>\n",
       "    <tr>\n",
       "      <th>4868</th>\n",
       "      <td>ZTS</td>\n",
       "      <td>Jim Cramer on Zoetis (ZTS): “It Does Seem to B...</td>\n",
       "      <td>We recently published a list of Jim Cramer Tal...</td>\n",
       "      <td>2025-05-21</td>\n",
       "      <td>Insider Monkey</td>\n",
       "      <td>https://finance.yahoo.com/news/jim-cramer-zoet...</td>\n",
       "    </tr>\n",
       "    <tr>\n",
       "      <th>4869</th>\n",
       "      <td>ZTS</td>\n",
       "      <td>Zoetis (ZTS) Upgraded to Buy: Here's Why</td>\n",
       "      <td>Zoetis (ZTS) might move higher on growing opti...</td>\n",
       "      <td>2025-05-21</td>\n",
       "      <td>Zacks</td>\n",
       "      <td>https://finance.yahoo.com/news/zoetis-zts-upgr...</td>\n",
       "    </tr>\n",
       "    <tr>\n",
       "      <th>4870</th>\n",
       "      <td>ZTS</td>\n",
       "      <td>ZTS Q1 Earnings Call: Guidance Raised as Platf...</td>\n",
       "      <td>Animal health company Zoetis (NYSE:ZTS) report...</td>\n",
       "      <td>2025-05-19</td>\n",
       "      <td>StockStory</td>\n",
       "      <td>https://finance.yahoo.com/news/zts-q1-earnings...</td>\n",
       "    </tr>\n",
       "  </tbody>\n",
       "</table>\n",
       "<p>4871 rows × 6 columns</p>\n",
       "</div>"
      ],
      "text/plain": [
       "     TICKER                                              TITLE  \\\n",
       "0       MMM  2 Dow Jones Stocks with Promising Prospects an...   \n",
       "1       MMM               3 S&P 500 Stocks Skating on Thin Ice   \n",
       "2       MMM  3M Rises 15.8% YTD: Should You Buy the Stock N...   \n",
       "3       MMM  Q1 Earnings Roundup: 3M (NYSE:MMM) And The Res...   \n",
       "4       MMM  3 Cash-Producing Stocks with Questionable Fund...   \n",
       "...     ...                                                ...   \n",
       "4866    ZTS  2 Dividend Stocks to Buy With $500 and Hold Fo...   \n",
       "4867    ZTS  Zoetis (NYSE:ZTS) Declares US$0.50 Dividend Pe...   \n",
       "4868    ZTS  Jim Cramer on Zoetis (ZTS): “It Does Seem to B...   \n",
       "4869    ZTS           Zoetis (ZTS) Upgraded to Buy: Here's Why   \n",
       "4870    ZTS  ZTS Q1 Earnings Call: Guidance Raised as Platf...   \n",
       "\n",
       "                                                SUMMARY PUBLICATION_DATE  \\\n",
       "0     The Dow Jones (^DJI) is made up of 30 of the m...       2025-05-29   \n",
       "1     The S&P 500 (^GSPC) is often seen as a benchma...       2025-05-27   \n",
       "2     MMM is making strides in the aerospace, indust...       2025-05-22   \n",
       "3     Quarterly earnings results are a good time to ...       2025-05-22   \n",
       "4     While strong cash flow is a key indicator of s...       2025-05-19   \n",
       "...                                                 ...              ...   \n",
       "4866  Zoetis is a leading animal health company with...       2025-05-23   \n",
       "4867  Zoetis (NYSE:ZTS) recently affirmed a dividend...       2025-05-22   \n",
       "4868  We recently published a list of Jim Cramer Tal...       2025-05-21   \n",
       "4869  Zoetis (ZTS) might move higher on growing opti...       2025-05-21   \n",
       "4870  Animal health company Zoetis (NYSE:ZTS) report...       2025-05-19   \n",
       "\n",
       "             PROVIDER                                                URL  \n",
       "0          StockStory  https://finance.yahoo.com/news/2-dow-jones-sto...  \n",
       "1          StockStory  https://finance.yahoo.com/news/3-p-500-stocks-...  \n",
       "2               Zacks  https://finance.yahoo.com/news/3m-rises-15-8-y...  \n",
       "3          StockStory  https://finance.yahoo.com/news/q1-earnings-rou...  \n",
       "4          StockStory  https://finance.yahoo.com/news/3-cash-producin...  \n",
       "...               ...                                                ...  \n",
       "4866      Motley Fool  https://www.fool.com/investing/2025/05/23/2-di...  \n",
       "4867  Simply Wall St.  https://finance.yahoo.com/news/zoetis-nyse-zts...  \n",
       "4868   Insider Monkey  https://finance.yahoo.com/news/jim-cramer-zoet...  \n",
       "4869            Zacks  https://finance.yahoo.com/news/zoetis-zts-upgr...  \n",
       "4870       StockStory  https://finance.yahoo.com/news/zts-q1-earnings...  \n",
       "\n",
       "[4871 rows x 6 columns]"
      ]
     },
     "metadata": {},
     "output_type": "display_data"
    }
   ],
   "source": [
    "df_news = pd.read_csv('./data/df_news.csv')\n",
    "df_news['PUBLICATION_DATE'] = pd.to_datetime(df_news['PUBLICATION_DATE']).dt.date\n",
    "display(df_news)"
   ]
  },
  {
   "cell_type": "code",
   "execution_count": 4,
   "id": "b0983a4a",
   "metadata": {},
   "outputs": [],
   "source": [
    "df_news['EMBEDDED_TEXT'] = df_news['TITLE'] + ' : ' + df_news['SUMMARY']"
   ]
  },
  {
   "cell_type": "code",
   "execution_count": 5,
   "id": "24f6c6e7",
   "metadata": {},
   "outputs": [],
   "source": [
    "model = SentenceTransformer('all-MiniLM-L6-v2')"
   ]
  },
  {
   "cell_type": "markdown",
   "id": "67c301aa",
   "metadata": {},
   "source": [
    "## Implement FAISS vector store\n",
    "We:\n",
    "- Use a pre-trained sentence transformer (all-MiniLM-L6-v2) to embed documents.\n",
    "- Normalize vectors to use cosine similarity.\n",
    "- Create a FAISS index and implement a basic search function.\n",
    "\n",
    "This will allow us to retrieve relevant news snippets given a natural language question.\n",
    " "
   ]
  },
  {
   "cell_type": "code",
   "execution_count": 6,
   "id": "607624fc",
   "metadata": {},
   "outputs": [],
   "source": [
    "# Load model and compute embeddings\n",
    "text_embeddings = model.encode(df_news['EMBEDDED_TEXT'].tolist(), convert_to_numpy=True)\n",
    "\n",
    "# Normalize embeddings to use cosine similarity (via inner product in FAISS)\n",
    "text_embeddings = text_embeddings / np.linalg.norm(text_embeddings, axis=1, keepdims=True)\n",
    "\n",
    "# Prepare metadata\n",
    "documents = df_news['EMBEDDED_TEXT'].tolist()\n",
    "metadata = [\n",
    "    {\n",
    "        'PUBLICATION_DATE': row['PUBLICATION_DATE'], \n",
    "        'TICKER': row['TICKER'], \n",
    "        'PROVIDER': row['PROVIDER']\n",
    "    }\n",
    "    for _, row in df_news.iterrows()\n",
    "]"
   ]
  },
  {
   "cell_type": "code",
   "execution_count": 7,
   "id": "a54162c2",
   "metadata": {},
   "outputs": [],
   "source": [
    "embedding_dim = text_embeddings.shape[1]\n",
    "faiss_index = faiss.IndexFlatIP(embedding_dim)  # Cosine similarity via inner product\n",
    "faiss_index.add(text_embeddings)"
   ]
  },
  {
   "cell_type": "code",
   "execution_count": 8,
   "id": "a6f85fd7",
   "metadata": {},
   "outputs": [],
   "source": [
    "class FaissVectorStore:\n",
    "    def __init__(self, model, index, embeddings, documents, metadata):\n",
    "        self.model = model\n",
    "        self.index = index\n",
    "        self.embeddings = embeddings\n",
    "        self.documents = documents\n",
    "        self.metadata = metadata\n",
    "\n",
    "    def search(self, query, k=5, metadata_filter=None):\n",
    "        query_embedding = self.model.encode([query])\n",
    "        query_embedding = query_embedding / np.linalg.norm(query_embedding)\n",
    "\n",
    "        if metadata_filter:\n",
    "            filtered_indices = [i for i, meta in enumerate(self.metadata) if metadata_filter(meta)]\n",
    "            if not filtered_indices:\n",
    "                return []\n",
    "            filtered_embeddings = self.embeddings[filtered_indices]\n",
    "            temp_index = faiss.IndexFlatIP(filtered_embeddings.shape[1])\n",
    "            temp_index.add(filtered_embeddings)\n",
    "            D, I = temp_index.search(query_embedding, k)\n",
    "            indices = [filtered_indices[i] for i in I[0]]\n",
    "        else:\n",
    "            D, I = self.index.search(query_embedding, k)\n",
    "            indices = I[0]\n",
    "            D = D[0]\n",
    "\n",
    "        results = []\n",
    "        for idx, sim in zip(indices, D):\n",
    "            results.append((self.documents[idx], self.metadata[idx], float(sim)))\n",
    "        return results"
   ]
  },
  {
   "cell_type": "code",
   "execution_count": 9,
   "id": "5c3e256d",
   "metadata": {},
   "outputs": [],
   "source": [
    "# Create FAISS-based store\n",
    "faiss_store = FaissVectorStore(\n",
    "    model=model,\n",
    "    index=faiss_index,\n",
    "    embeddings=text_embeddings,\n",
    "    documents=documents,\n",
    "    metadata=metadata\n",
    ")"
   ]
  },
  {
   "cell_type": "markdown",
   "id": "40c40d71",
   "metadata": {},
   "source": [
    "### Setup OpenAI Client\n",
    "\n",
    "👉 **Instructions**:\n",
    "- Import the `OpenAI` client from the `openai` Python library.\n",
    "- You will need an **OpenAI API key** to use their models programmatically:\n",
    "  - Go to [https://platform.openai.com/](https://platform.openai.com/) and sign up or log in.\n",
    "  - Create an API key from your [API keys dashboard](https://platform.openai.com/account/api-keys).\n",
    "  - ⚠️ **Keep your API key private** and **do not** share or hardcode it in public notebooks.\n",
    "- Note that **usage of the OpenAI API is not free**. You will need to:\n",
    "  - Add a payment method.\n",
    "  - Monitor your usage to avoid unexpected charges.\n",
    "  - Optionally set usage limits from your account settings.\n",
    "- You can refer to the **course’s Study Resources** for a step-by-step guide on creating an OpenAI account and retrieving your API key.\n",
    "\n",
    "Then:\n",
    "- Initialize the client with `OpenAI(api_key=\"YOUR_KEY_HERE\")`.\n",
    "- Send a test request using `.responses.create()` and the `\"gpt-4o-mini\"` model with a simple prompt:\n",
    "\n",
    "  ```python\n",
    "  response = client.responses.create(\n",
    "      model=\"gpt-4o-mini\",\n",
    "      input=\"Write a one-sentence bedtime story about a unicorn.\"\n",
    "  )\n",
    "  print(response.output_text)\n"
   ]
  },
  {
   "cell_type": "code",
   "execution_count": 10,
   "id": "bb8e09c7",
   "metadata": {
    "scrolled": true
   },
   "outputs": [
    {
     "name": "stdout",
     "output_type": "stream",
     "text": [
      "Hello, Martin! I don’t have the ability to confirm connections like an API user would, but I'm here to help you with any questions or information you need. How can I assist you today?\n"
     ]
    }
   ],
   "source": [
    "# CODE HERE\n",
    "# Use as many coding cells as you need\n",
    "\n",
    "load_dotenv()  # Loads environment variables from the .env file\n",
    "api_key = os.getenv(\"KEY\")  # Retrieve the value of the KEY variable\n",
    "\n",
    "# If the API key is missing, stop execution and alert the user\n",
    "if not api_key:\n",
    "    raise ValueError(\"The variable 'KEY' was not found in the .env file\")\n",
    "\n",
    "# 2. Import the OpenAI client and initialize it\n",
    "from openai import OpenAI\n",
    "\n",
    "# Create an instance of the OpenAI client with the loaded API key\n",
    "client = OpenAI(api_key=api_key)\n",
    "\n",
    "# 3. Send a simple test request to confirm the connection works\n",
    "response = client.responses.create(\n",
    "    model=\"gpt-4o-mini\",  # Small and fast GPT-4 model\n",
    "    input=\"Hello! Can you confirm you're connected to the API, I'am Martin Jurado?\"  # Test prompt\n",
    ")\n",
    "\n",
    "# 4. Print the model's output text\n",
    "print(response.output_text)\n"
   ]
  },
  {
   "cell_type": "markdown",
   "id": "15b1a560",
   "metadata": {},
   "source": [
    "## Retrieve Additional Metadata from Yahoo Finance\n",
    "\n",
    "👉 **Instructions**:\n",
    "- We will enrich our news dataset by retrieving **company-level metadata** using the `yfinance` library.\n",
    "- The goal is to map each unique stock ticker (`TICKER`) in the dataset to:\n",
    "  - `COMPANY_NAME`\n",
    "  - `SECTOR`\n",
    "  - `INDUSTRY`\n",
    "\n",
    "> ℹ️ `yfinance` fetches live data from Yahoo Finance. If you're running this in a cloud environment or during peak hours, expect some tickers to fail or rate limits to apply.\n",
    "\n",
    "✅ After this step, you will have a new DataFrame (e.g. `df_meta`) with the columns `TICKER`, `COMPANY_NAME`, `SECTOR`, `INDUSTRY` that maps tickers to their company names, sectors, and industries. This metadata will be useful later to add filters and analysis based on sector or industry categories.\n"
   ]
  },
  {
   "cell_type": "code",
   "execution_count": 11,
   "id": "57d90b86",
   "metadata": {},
   "outputs": [],
   "source": [
    "# CODE HERE\n",
    "# Use as many coding cells as you need\n",
    "unique_tickers = df_news[\"TICKER\"].unique()\n",
    "\n",
    "# Prepare a list to hold metadata records\n",
    "metadata_records = []\n",
    "\n",
    "#Loop through each ticker and retrieve company metadata from Yahoo Finance\n",
    "for ticker in unique_tickers:\n",
    "    attempts = 0\n",
    "    while attempts < 3:  # Retry up to 3 times\n",
    "        try:\n",
    "            yf_ticker = yf.Ticker(ticker)\n",
    "            info = yf_ticker.info\n",
    "\n",
    "            metadata_records.append({\n",
    "                \"TICKER\": ticker,\n",
    "                \"COMPANY_NAME\": info.get(\"longName\", None),\n",
    "                \"SECTOR\": info.get(\"sector\", None),\n",
    "                \"INDUSTRY\": info.get(\"industry\", None)\n",
    "            })\n",
    "            break  # Exit retry loop if successful\n",
    "\n",
    "        except Exception as e:\n",
    "            attempts += 1\n",
    "            print(f\"⚠️ Attempt {attempts} failed for {ticker}: {e}\")\n",
    "            time.sleep(1)  # Wait before retrying\n",
    "\n",
    "    time.sleep(0.5)  # Small pause between tickers to avoid rate limits\n",
    "\n"
   ]
  },
  {
   "cell_type": "code",
   "execution_count": 12,
   "id": "921a90aa-2ac4-4103-8fab-567b737be1bd",
   "metadata": {},
   "outputs": [
    {
     "data": {
      "text/html": [
       "<div>\n",
       "<style scoped>\n",
       "    .dataframe tbody tr th:only-of-type {\n",
       "        vertical-align: middle;\n",
       "    }\n",
       "\n",
       "    .dataframe tbody tr th {\n",
       "        vertical-align: top;\n",
       "    }\n",
       "\n",
       "    .dataframe thead th {\n",
       "        text-align: right;\n",
       "    }\n",
       "</style>\n",
       "<table border=\"1\" class=\"dataframe\">\n",
       "  <thead>\n",
       "    <tr style=\"text-align: right;\">\n",
       "      <th></th>\n",
       "      <th>TICKER</th>\n",
       "      <th>COMPANY_NAME</th>\n",
       "      <th>SECTOR</th>\n",
       "      <th>INDUSTRY</th>\n",
       "    </tr>\n",
       "  </thead>\n",
       "  <tbody>\n",
       "    <tr>\n",
       "      <th>0</th>\n",
       "      <td>MMM</td>\n",
       "      <td>3M Company</td>\n",
       "      <td>Industrials</td>\n",
       "      <td>Conglomerates</td>\n",
       "    </tr>\n",
       "    <tr>\n",
       "      <th>1</th>\n",
       "      <td>AOS</td>\n",
       "      <td>A. O. Smith Corporation</td>\n",
       "      <td>Industrials</td>\n",
       "      <td>Specialty Industrial Machinery</td>\n",
       "    </tr>\n",
       "    <tr>\n",
       "      <th>2</th>\n",
       "      <td>ABT</td>\n",
       "      <td>Abbott Laboratories</td>\n",
       "      <td>Healthcare</td>\n",
       "      <td>Medical Devices</td>\n",
       "    </tr>\n",
       "    <tr>\n",
       "      <th>3</th>\n",
       "      <td>ABBV</td>\n",
       "      <td>AbbVie Inc.</td>\n",
       "      <td>Healthcare</td>\n",
       "      <td>Drug Manufacturers - General</td>\n",
       "    </tr>\n",
       "    <tr>\n",
       "      <th>4</th>\n",
       "      <td>ACN</td>\n",
       "      <td>Accenture plc</td>\n",
       "      <td>Technology</td>\n",
       "      <td>Information Technology Services</td>\n",
       "    </tr>\n",
       "    <tr>\n",
       "      <th>...</th>\n",
       "      <td>...</td>\n",
       "      <td>...</td>\n",
       "      <td>...</td>\n",
       "      <td>...</td>\n",
       "    </tr>\n",
       "    <tr>\n",
       "      <th>485</th>\n",
       "      <td>XEL</td>\n",
       "      <td>Xcel Energy Inc.</td>\n",
       "      <td>Utilities</td>\n",
       "      <td>Utilities - Regulated Electric</td>\n",
       "    </tr>\n",
       "    <tr>\n",
       "      <th>486</th>\n",
       "      <td>XYL</td>\n",
       "      <td>Xylem Inc.</td>\n",
       "      <td>Industrials</td>\n",
       "      <td>Specialty Industrial Machinery</td>\n",
       "    </tr>\n",
       "    <tr>\n",
       "      <th>487</th>\n",
       "      <td>YUM</td>\n",
       "      <td>Yum! Brands, Inc.</td>\n",
       "      <td>Consumer Cyclical</td>\n",
       "      <td>Restaurants</td>\n",
       "    </tr>\n",
       "    <tr>\n",
       "      <th>488</th>\n",
       "      <td>ZBH</td>\n",
       "      <td>Zimmer Biomet Holdings, Inc.</td>\n",
       "      <td>Healthcare</td>\n",
       "      <td>Medical Devices</td>\n",
       "    </tr>\n",
       "    <tr>\n",
       "      <th>489</th>\n",
       "      <td>ZTS</td>\n",
       "      <td>Zoetis Inc.</td>\n",
       "      <td>Healthcare</td>\n",
       "      <td>Drug Manufacturers - Specialty &amp; Generic</td>\n",
       "    </tr>\n",
       "  </tbody>\n",
       "</table>\n",
       "<p>490 rows × 4 columns</p>\n",
       "</div>"
      ],
      "text/plain": [
       "    TICKER                  COMPANY_NAME             SECTOR  \\\n",
       "0      MMM                    3M Company        Industrials   \n",
       "1      AOS       A. O. Smith Corporation        Industrials   \n",
       "2      ABT           Abbott Laboratories         Healthcare   \n",
       "3     ABBV                   AbbVie Inc.         Healthcare   \n",
       "4      ACN                 Accenture plc         Technology   \n",
       "..     ...                           ...                ...   \n",
       "485    XEL              Xcel Energy Inc.          Utilities   \n",
       "486    XYL                    Xylem Inc.        Industrials   \n",
       "487    YUM             Yum! Brands, Inc.  Consumer Cyclical   \n",
       "488    ZBH  Zimmer Biomet Holdings, Inc.         Healthcare   \n",
       "489    ZTS                   Zoetis Inc.         Healthcare   \n",
       "\n",
       "                                     INDUSTRY  \n",
       "0                               Conglomerates  \n",
       "1              Specialty Industrial Machinery  \n",
       "2                             Medical Devices  \n",
       "3                Drug Manufacturers - General  \n",
       "4             Information Technology Services  \n",
       "..                                        ...  \n",
       "485            Utilities - Regulated Electric  \n",
       "486            Specialty Industrial Machinery  \n",
       "487                               Restaurants  \n",
       "488                           Medical Devices  \n",
       "489  Drug Manufacturers - Specialty & Generic  \n",
       "\n",
       "[490 rows x 4 columns]"
      ]
     },
     "metadata": {},
     "output_type": "display_data"
    }
   ],
   "source": [
    "#Create a new DataFrame with the retrieved metadata\n",
    "df_meta = pd.DataFrame(metadata_records, columns=[\"TICKER\", \"COMPANY_NAME\", \"SECTOR\", \"INDUSTRY\"])\n",
    "\n",
    "#Display the result\n",
    "display(df_meta)"
   ]
  },
  {
   "cell_type": "markdown",
   "id": "f1cb5429",
   "metadata": {},
   "source": [
    "## Retrieval-Augmented Generation (RAG): Retrieve Documents and Generate Answers\n",
    "\n",
    "👉 **Instructions**:\n",
    "\n",
    "In this part of the assignment, your task is to build a simple Retrieval-Augmented Generation (RAG) pipeline that:\n",
    "\n",
    "- Takes a user question as input.\n",
    "- Searches the FAISS vector store to find a set of relevant financial news articles based on semantic similarity.\n",
    "- Uses the retrieved news articles as context to generate a clear, concise answer to the question by interacting with the OpenAI language model.\n",
    "- Returns both the generated answer and the underlying news snippets used for context.\n",
    "\n",
    "### What you need to focus on:\n",
    "\n",
    "- Implement a retrieval mechanism to query your vector store and obtain the top relevant documents for any question.\n",
    "- Construct prompts that effectively combine retrieved news content with the user’s question to guide the language model’s response.\n",
    "- Use the OpenAI API to generate answers grounded in the retrieved context.\n",
    "- Organize the outputs so that for each question, you have:\n",
    "  - The generated answer.\n",
    "  - The collection of news excerpts used to produce that answer.\n",
    "\n",
    "### What you will be provided:\n",
    "\n",
    "- Helper functions to display outputs in markdown format.\n",
    "- Lists of example questions covering topics, companies, and industries to test your implementation.\n",
    "\n",
    "---\n",
    "\n",
    "Your solution can take any form or structure you find appropriate, as long as it fulfills these core objectives. This exercise will give you hands-on experience with integrating retrieval and generation for practical applications in finance.\n"
   ]
  },
  {
   "cell_type": "markdown",
   "id": "aa99a272",
   "metadata": {},
   "source": [
    "#### Print markdown\n",
    "You can use the following function to print answers from GPT4o-mini in markdown."
   ]
  },
  {
   "cell_type": "code",
   "execution_count": 13,
   "id": "9165af0a",
   "metadata": {},
   "outputs": [],
   "source": [
    "from IPython.display import Markdown, display\n",
    "\n",
    "def print_markdown(text):\n",
    "    display(Markdown(text))"
   ]
  },
  {
   "cell_type": "markdown",
   "id": "9b4f82b9",
   "metadata": {},
   "source": [
    "#### Predefined questions"
   ]
  },
  {
   "cell_type": "code",
   "execution_count": 14,
   "id": "3f4b75dd",
   "metadata": {},
   "outputs": [],
   "source": [
    "questions_topic = [\n",
    "\"What are the major concerns expressed in financial news about inflation?\",\n",
    "\"How is investor sentiment described in recent financial headlines?\",\n",
    "\"What role is artificial intelligence playing in recent finance-related news stories?\"\n",
    "]\n",
    "\n",
    "questions_company = [\n",
    "\"How is Microsoft being portrayed in news stories about artificial intelligence?\",\n",
    "\"What financial news headlines connect Amazon with automation or logistics?\"\n",
    "]\n",
    "\n",
    "questions_industry = [\n",
    "\"What are the main themes emerging in financial news about the semiconductor industry?\",\n",
    "\"What trends are being reported in the retail industry?\",\n",
    "\"What risks or challenges are discussed in recent news about the energy industry?\"\n",
    "]"
   ]
  },
  {
   "cell_type": "code",
   "execution_count": 15,
   "id": "4ae50eb2",
   "metadata": {},
   "outputs": [
    {
     "data": {
      "text/markdown": [
       "**Question:** How is Microsoft being portrayed in news stories about artificial intelligence?\n",
       "\n",
       "**Answer:** The context does not provide any specific information about how Microsoft is being portrayed in news stories about artificial intelligence. It mainly discusses other companies such as Meta Platforms and Salesforce in relation to AI. Therefore, I cannot determine Microsoft's portrayal from the provided information."
      ],
      "text/plain": [
       "<IPython.core.display.Markdown object>"
      ]
     },
     "metadata": {},
     "output_type": "display_data"
    },
    {
     "name": "stdout",
     "output_type": "stream",
     "text": [
      "\n",
      "--- Context Used ---\n",
      "META | 2025-05-31 | Score: 0.54\n",
      "Meta Platforms has investments in several AI applications.  The tech giant's stock is only valued on\n",
      "its legacy business.  Over the past two-and-a-half years, investors have heard about various\n",
      "artificial intelligence (AI) investments that tech companies are making.\n",
      "\n",
      "CRM | 2025-05-29 | Score: 0.51\n",
      "D.A. Davidson head of technology research Gil Luria joins Market Domination to discuss Salesforce\n",
      "(CRM) earnings and the company's trajectory. Luria says Salesforce is \"too focused\" on artificial\n",
      "intelligence (AI), as the other parts of its business \"rapidly\" decelerate and the company loses\n",
      "market share to competitors. Luria has the equivalent of a Sell rating on the stock. To watch more\n",
      "expert insights and analysis on the latest market action, check out more Market Domination here.\n",
      "\n",
      "JKHY | 2025-03-17 | Score: 0.48\n",
      "We recently published a list of 12 AI News Investors Should Not Miss This Week. In this article, we\n",
      "are going to take a look at where Jack Henry & Associates, Inc. (NASDAQ:JKHY) stands against other\n",
      "AI news Investors should not miss this week. Artificial Intelligence (AI) is known to increase\n",
      "productivity, decrease human error, […]\n",
      "\n",
      "NFLX | 2025-05-29 | Score: 0.46\n",
      "Generative AI can simplify and speed up many tasks, including content production.  It's easy to see\n",
      "the potential for Netflix, whose content strategy is integral to its success.  Netflix's creations\n",
      "have attracted millions of viewers and won many awards.\n",
      "\n",
      "META | 2025-05-30 | Score: 0.46\n",
      "We recently published a list of 10 AI Stocks on Wall Street’s Radar. In this article, we are going\n",
      "to take a look at where Meta Platforms, Inc. (NASDAQ:META) stands against other AI stocks on Wall\n",
      "Street’s radar. Meta Platforms, Inc. (NASDAQ:META) is a global technology company. On May 28, CNBC\n",
      "reported that Meta Platforms, Inc. (NASDAQ:META)’s artificial […]\n",
      "\n"
     ]
    }
   ],
   "source": [
    "# CODE HERE\n",
    "# Use as many coding cells as you need\n",
    "def retrieve_and_generate(question, k=5):\n",
    "    \"\"\"\n",
    "    Retrieve top-k relevant news snippets from FAISS and use them as context\n",
    "    to generate a concise answer using OpenAI GPT.\n",
    "    \"\"\"\n",
    "    #Search for relevant documents using the FAISS index and model embeddings\n",
    "    query_embedding = model.encode([question], convert_to_numpy=True)\n",
    "    query_embedding = query_embedding / (np.linalg.norm(query_embedding, axis=1, keepdims=True) + 1e-10)  # Normalize\n",
    "    \n",
    "    scores, indices = faiss_index.search(query_embedding, k)\n",
    "    \n",
    "    retrieved_snippets = []\n",
    "    for idx, score in zip(indices[0], scores[0]):\n",
    "        meta = df_news.iloc[idx]\n",
    "        snippet = meta['SUMMARY']\n",
    "        retrieved_snippets.append((snippet, meta.to_dict(), score))\n",
    "    \n",
    "    # Build the context string with ticker, date, and summary for the prompt\n",
    "    context_text = \"\\n\\n\".join(\n",
    "        f\"[{meta['TICKER']} | {meta['PUBLICATION_DATE']}]: {snippet}\"\n",
    "        for snippet, meta, score in retrieved_snippets\n",
    "    )\n",
    "    \n",
    "    # Construct the prompt for the language model\n",
    "    prompt = f\"\"\"\n",
    "You are a financial news assistant.\n",
    "Answer the following question based only on the context provided.\n",
    "\n",
    "Question:\n",
    "{question}\n",
    "\n",
    "Context:\n",
    "{context_text}\n",
    "\n",
    "Answer:\n",
    "\"\"\"\n",
    "    #Generate answer using OpenAI API\n",
    "    response = client.responses.create(\n",
    "        model=\"gpt-4o-mini\",\n",
    "        input=prompt\n",
    "    )\n",
    "    \n",
    "    return response.output_text, retrieved_snippets\n",
    "\n",
    "# Question\n",
    "question = \"How is Microsoft being portrayed in news stories about artificial intelligence?\"\n",
    "answer, docs_used = retrieve_and_generate(question, k=5)\n",
    "\n",
    "# Print the generated answer in markdown format\n",
    "print_markdown(f\"**Question:** {question}\\n\\n**Answer:** {answer}\")\n",
    "\n",
    "# Print the supporting news snippets with scores\n",
    "print(\"\\n--- Context Used ---\")\n",
    "for snippet, meta, score in docs_used:\n",
    "    print(f\"{meta['TICKER']} | {meta['PUBLICATION_DATE']} | Score: {score:.2f}\")\n",
    "    print(textwrap.fill(snippet, width=100))\n",
    "    print()\n"
   ]
  },
  {
   "cell_type": "code",
   "execution_count": 16,
   "id": "6808dac8-c759-4b0a-98af-003ee5bcb07f",
   "metadata": {},
   "outputs": [
    {
     "name": "stdout",
     "output_type": "stream",
     "text": [
      "\n",
      "## Category: Topic\n",
      "\n"
     ]
    },
    {
     "data": {
      "text/markdown": [
       "### Question 1: What are the major concerns expressed in financial news about inflation?"
      ],
      "text/plain": [
       "<IPython.core.display.Markdown object>"
      ]
     },
     "metadata": {},
     "output_type": "display_data"
    },
    {
     "data": {
      "text/markdown": [
       "**Generated Answer:**\n",
       "The major concerns expressed in financial news about inflation include its persistence and the potential for an economic slowdown as highlighted by the Federal Reserve's May policy meeting.\n"
      ],
      "text/plain": [
       "<IPython.core.display.Markdown object>"
      ]
     },
     "metadata": {},
     "output_type": "display_data"
    },
    {
     "name": "stdout",
     "output_type": "stream",
     "text": [
      "**Supporting News Snippets:**\n",
      "- [BLK | 2025-05-29] (Score: 0.58): The Federal Reserve’s May policy meeting revealed mounting concern over persistent US inflation and the potential for economic slowdown....\n",
      "- [TSLA | 2025-05-31] (Score: 0.49): Key moments from the last seven days, plus a glimpse at the week ahead...\n",
      "- [NVDA | 2025-05-31] (Score: 0.49): Key moments from the last seven days, plus a glimpse at the week ahead...\n",
      "- [LULU | 2025-05-31] (Score: 0.49): Key moments from the last seven days, plus a glimpse at the week ahead...\n",
      "- [AVGO | 2025-05-31] (Score: 0.49): Key moments from the last seven days, plus a glimpse at the week ahead...\n",
      "\n",
      "**Reflection:**\n",
      "- Relevance: \n",
      "- Completeness: \n",
      "- Bias or Noise: \n",
      "- Consistency: \n",
      "- Improvement Ideas: \n",
      "\n",
      "--------------------------------------------------------------------------------\n",
      "\n"
     ]
    },
    {
     "data": {
      "text/markdown": [
       "### Question 2: How is investor sentiment described in recent financial headlines?"
      ],
      "text/plain": [
       "<IPython.core.display.Markdown object>"
      ]
     },
     "metadata": {},
     "output_type": "display_data"
    },
    {
     "data": {
      "text/markdown": [
       "**Generated Answer:**\n",
       "Investor sentiment in recent financial headlines is predominantly bullish, with Wall Street setting ambitious price targets and highlighting attractive upside potential for several stocks. However, there is an underlying caution due to the tendency of analysts to maintain positive outlooks to safeguard relationships with the companies they cover, leading to skepticism about the forecasts.\n"
      ],
      "text/plain": [
       "<IPython.core.display.Markdown object>"
      ]
     },
     "metadata": {},
     "output_type": "display_data"
    },
    {
     "name": "stdout",
     "output_type": "stream",
     "text": [
      "**Supporting News Snippets:**\n",
      "- [KMX | 2025-05-26] (Score: 0.61): Wall Street has set ambitious price targets for the stocks in this article. While this suggests attractive upside potential, it’s important to remain skeptical because analysts face institutional pres...\n",
      "- [MCHP | 2025-05-20] (Score: 0.60): Great things are happening to the stocks in this article. They’re all outperforming the market over the last month because of positive catalysts such as a new product line, constructive news flow, or ...\n",
      "- [MPWR | 2025-05-06] (Score: 0.59): The stocks in this article have caught Wall Street’s attention in a big way, with price targets implying returns above 20%. But investors should take these forecasts with a grain of salt because analy...\n",
      "- [DRI | 2025-05-21] (Score: 0.58): When Wall Street turns bearish on a stock, it’s worth paying attention. These calls stand out because analysts rarely issue grim ratings on companies for fear their firms will lose out in other busine...\n",
      "- [RVTY | 2025-05-23] (Score: 0.57): Wall Street is overwhelmingly bullish on the stocks in this article, with price targets suggesting significant upside potential. However, it’s worth remembering that analysts rarely issue sell ratings...\n",
      "\n",
      "**Reflection:**\n",
      "- Relevance: \n",
      "- Completeness: \n",
      "- Bias or Noise: \n",
      "- Consistency: \n",
      "- Improvement Ideas: \n",
      "\n",
      "--------------------------------------------------------------------------------\n",
      "\n"
     ]
    },
    {
     "data": {
      "text/markdown": [
       "### Question 3: What role is artificial intelligence playing in recent finance-related news stories?"
      ],
      "text/plain": [
       "<IPython.core.display.Markdown object>"
      ]
     },
     "metadata": {},
     "output_type": "display_data"
    },
    {
     "data": {
      "text/markdown": [
       "**Generated Answer:**\n",
       "Artificial intelligence (AI) is playing a significant role in recent finance-related news by driving productivity improvements and reducing human error in various sectors. Companies like Jack Henry & Associates and Palantir are leveraging AI to enhance their services, while Meta Platforms is investing heavily in AI applications to reshape its business model. Additionally, AI is being used by Upstart to help lenders assess credit risk effectively, which is yielding attractive returns. The integration of generative AI is also influencing content production strategies at companies like Netflix, emphasizing its growing importance across multiple industries. Overall, AI is recognized as a key driver of investment and growth in the financial sector.\n"
      ],
      "text/plain": [
       "<IPython.core.display.Markdown object>"
      ]
     },
     "metadata": {},
     "output_type": "display_data"
    },
    {
     "name": "stdout",
     "output_type": "stream",
     "text": [
      "**Supporting News Snippets:**\n",
      "- [JKHY | 2025-03-17] (Score: 0.70): We recently published a list of 12 AI News Investors Should Not Miss This Week. In this article, we are going to take a look at where Jack Henry & Associates, Inc. (NASDAQ:JKHY) stands against other A...\n",
      "- [META | 2025-05-31] (Score: 0.63): Meta Platforms has investments in several AI applications.  The tech giant's stock is only valued on its legacy business.  Over the past two-and-a-half years, investors have heard about various artifi...\n",
      "- [PLTR | 2025-05-31] (Score: 0.62): Several billionaire hedge fund managers bought shares of Palantir and/or Upstart in the first quarter -- stocks where certain analysts anticipate substantial upside.  Palantir is successfully tapping ...\n",
      "- [PLTR | 2025-05-31] (Score: 0.62): Shares of both Palantir and Snowflake have delivered healthy gains in 2025 despite the broader stock market weakness.  Palantir stock has shot up 63% this year despite bouts of volatility.  Palantir T...\n",
      "- [NFLX | 2025-05-29] (Score: 0.58): Generative AI can simplify and speed up many tasks, including content production.  It's easy to see the potential for Netflix, whose content strategy is integral to its success.  Netflix's creations h...\n",
      "\n",
      "**Reflection:**\n",
      "- Relevance: \n",
      "- Completeness: \n",
      "- Bias or Noise: \n",
      "- Consistency: \n",
      "- Improvement Ideas: \n",
      "\n",
      "--------------------------------------------------------------------------------\n",
      "\n",
      "\n",
      "## Category: Company\n",
      "\n"
     ]
    },
    {
     "data": {
      "text/markdown": [
       "### Question 1: How is Microsoft being portrayed in news stories about artificial intelligence?"
      ],
      "text/plain": [
       "<IPython.core.display.Markdown object>"
      ]
     },
     "metadata": {},
     "output_type": "display_data"
    },
    {
     "data": {
      "text/markdown": [
       "**Generated Answer:**\n",
       "The context provided does not include any specific information about how Microsoft is being portrayed in relation to artificial intelligence. Therefore, it's not possible to determine Microsoft's portrayal from the provided text.\n"
      ],
      "text/plain": [
       "<IPython.core.display.Markdown object>"
      ]
     },
     "metadata": {},
     "output_type": "display_data"
    },
    {
     "name": "stdout",
     "output_type": "stream",
     "text": [
      "**Supporting News Snippets:**\n",
      "- [META | 2025-05-31] (Score: 0.54): Meta Platforms has investments in several AI applications.  The tech giant's stock is only valued on its legacy business.  Over the past two-and-a-half years, investors have heard about various artifi...\n",
      "- [CRM | 2025-05-29] (Score: 0.51): D.A. Davidson head of technology research Gil Luria joins Market Domination to discuss Salesforce (CRM) earnings and the company's trajectory. Luria says Salesforce is \"too focused\" on artificial inte...\n",
      "- [JKHY | 2025-03-17] (Score: 0.48): We recently published a list of 12 AI News Investors Should Not Miss This Week. In this article, we are going to take a look at where Jack Henry & Associates, Inc. (NASDAQ:JKHY) stands against other A...\n",
      "- [NFLX | 2025-05-29] (Score: 0.46): Generative AI can simplify and speed up many tasks, including content production.  It's easy to see the potential for Netflix, whose content strategy is integral to its success.  Netflix's creations h...\n",
      "- [META | 2025-05-30] (Score: 0.46): We recently published a list of 10 AI Stocks on Wall Street’s Radar. In this article, we are going to take a look at where Meta Platforms, Inc. (NASDAQ:META) stands against other AI stocks on Wall Str...\n",
      "\n",
      "**Reflection:**\n",
      "- Relevance: \n",
      "- Completeness: \n",
      "- Bias or Noise: \n",
      "- Consistency: \n",
      "- Improvement Ideas: \n",
      "\n",
      "--------------------------------------------------------------------------------\n",
      "\n"
     ]
    },
    {
     "data": {
      "text/markdown": [
       "### Question 2: What financial news headlines connect Amazon with automation or logistics?"
      ],
      "text/plain": [
       "<IPython.core.display.Markdown object>"
      ]
     },
     "metadata": {},
     "output_type": "display_data"
    },
    {
     "data": {
      "text/markdown": [
       "**Generated Answer:**\n",
       "The financial news headline connecting Amazon with automation or logistics is: \"Every aspect of Amazon is leveraging artificial intelligence,\" as stated by Matt Garman, CEO of Amazon Web Services. This reflects Amazon's focus on integrating advanced technology into its operations, which is closely related to automation and logistics.\n"
      ],
      "text/plain": [
       "<IPython.core.display.Markdown object>"
      ]
     },
     "metadata": {},
     "output_type": "display_data"
    },
    {
     "name": "stdout",
     "output_type": "stream",
     "text": [
      "**Supporting News Snippets:**\n",
      "- [TFC | 2025-05-25] (Score: 0.60): We recently published a list of 10 AI Stocks on Wall Street’s Radar. In this article, we are going to take a look at where Amazon.com Inc. (NASDAQ:AMZN) stands against other AI stocks on Wall Street’s...\n",
      "- [AMZN | 2025-05-30] (Score: 0.52): Every aspect of Amazon is leveraging artificial intelligence, says Matt Garman, CEO of Amazon Web Services. Garman discusses Amazon's AI roadmap and reflects on his first year in the role with Ed Ludl...\n",
      "- [TFC | 2025-05-23] (Score: 0.52): Woodward's (WWD) increasing volumes, pricing, automation, and products will push its aerospace margi...\n",
      "- [AON | 2025-04-30] (Score: 0.51): Today's Research Daily features new research reports on 16 major stocks, including Amazon.com, Inc. (AMZN), Johnson & Johnson (JNJ) and Cisco Systems, Inc. (CSCO), as well as a micro-cap NeurAxis, Inc...\n",
      "- [CHRW | 2025-05-23] (Score: 0.50): As the craze of earnings season draws to a close, here’s a look back at some of the most exciting (and some less so) results from Q1. Today, we are looking at air freight and logistics stocks, startin...\n",
      "\n",
      "**Reflection:**\n",
      "- Relevance: \n",
      "- Completeness: \n",
      "- Bias or Noise: \n",
      "- Consistency: \n",
      "- Improvement Ideas: \n",
      "\n",
      "--------------------------------------------------------------------------------\n",
      "\n",
      "\n",
      "## Category: Industry\n",
      "\n"
     ]
    },
    {
     "data": {
      "text/markdown": [
       "### Question 1: What are the main themes emerging in financial news about the semiconductor industry?"
      ],
      "text/plain": [
       "<IPython.core.display.Markdown object>"
      ]
     },
     "metadata": {},
     "output_type": "display_data"
    },
    {
     "data": {
      "text/markdown": [
       "**Generated Answer:**\n",
       "The main themes emerging in financial news about the semiconductor industry include:\n",
       "\n",
       "1. **Revenue Trends and Forecasts**: There is a focus on international revenue trends for companies like ON Semiconductor Corp., which impacts Wall Street's forecasts and stock performance.\n",
       "\n",
       "2. **Market Attention**: Increasing interest from investors, as seen with Zacks.com users closely monitoring ON Semiconductor, indicates a growing focus on potential stock movements within the sector.\n",
       "\n",
       "3. **Earnings Performance**: There is mention of soft earnings reports, particularly with ON Semiconductor, yet they do not seem to significantly concern shareholders, suggesting a resilience in investor confidence despite mixed financial results.\n",
       "\n",
       "4. **Assessment of Competitors**: The end of earnings seasons provides opportunities to evaluate other companies, such as Vishay Intertechnology, and how they are navigating the current business environment, highlighting competitive dynamics in the analog semiconductors segment.\n",
       "\n",
       "5. **High-Potential Stocks**: The identification of stocks with huge upside potential, including ON Semiconductor, is a theme reflecting investor optimism and the search for lucrative investment opportunities within the industry.\n"
      ],
      "text/plain": [
       "<IPython.core.display.Markdown object>"
      ]
     },
     "metadata": {},
     "output_type": "display_data"
    },
    {
     "name": "stdout",
     "output_type": "stream",
     "text": [
      "**Supporting News Snippets:**\n",
      "- [ON | 2025-05-13] (Score: 0.64): Explore ON Semiconductor Corp.'s (ON) international revenue trends and how these numbers impact Wall Street's forecasts and what's ahead for the stock....\n",
      "- [ON | 2025-05-21] (Score: 0.58): Recently, Zacks.com users have been paying close attention to ON Semiconductor Corp. (ON). This makes it worthwhile to examine what the stock has in store....\n",
      "- [ON | 2025-05-12] (Score: 0.56): Soft earnings didn't appear to concern ON Semiconductor Corporation's ( NASDAQ:ON ) shareholders over the last week......\n",
      "- [ADI | 2025-05-29] (Score: 0.55): The end of an earnings season can be a great time to discover new stocks and assess how companies are handling the current business environment. Let’s take a look at how Vishay Intertechnology (NYSE:V...\n",
      "- [ON | 2025-05-11] (Score: 0.53): We recently published a list of Billionaire Glenn Russell Dubin’s 10 Stock Picks with Huge Upside Potential. In this article, we are going to take a look at where ON Semiconductor Corporation (NASDAQ:...\n",
      "\n",
      "**Reflection:**\n",
      "- Relevance: \n",
      "- Completeness: \n",
      "- Bias or Noise: \n",
      "- Consistency: \n",
      "- Improvement Ideas: \n",
      "\n",
      "--------------------------------------------------------------------------------\n",
      "\n"
     ]
    },
    {
     "data": {
      "text/markdown": [
       "### Question 2: What trends are being reported in the retail industry?"
      ],
      "text/plain": [
       "<IPython.core.display.Markdown object>"
      ]
     },
     "metadata": {},
     "output_type": "display_data"
    },
    {
     "data": {
      "text/markdown": [
       "**Generated Answer:**\n",
       "Current trends in the retail industry indicate a significant challenge, with stocks experiencing a downturn of approximately 13.7% over the past six months, which is worse than the S&P 500’s decline of 5.5%. Retailers are adapting their business models in response to technological changes in shopping behavior. Furthermore, there has been volatility in demand linked to fluctuations in consumer spending. Additionally, executives are adapting to legal changes regarding tariffs, adjusting supply chains, and implementing price increases that are already affecting consumer prices. Overall, the retail sector appears to be struggling against economic pressures and uncertain consumer behavior.\n"
      ],
      "text/plain": [
       "<IPython.core.display.Markdown object>"
      ]
     },
     "metadata": {},
     "output_type": "display_data"
    },
    {
     "name": "stdout",
     "output_type": "stream",
     "text": [
      "**Supporting News Snippets:**\n",
      "- [KMX | 2025-05-12] (Score: 0.59): Retailers are adapting their business models as technology changes how people shop. Still, demand can be volatile as the industry is exposed to the ups and downs of consumer spending. This has stirred...\n",
      "- [BBY | 2025-05-29] (Score: 0.51): As legal rulings roll in on Trump’s tariff policies, retail executives say they have shifted their supply chains and many price increases already have hit shelves....\n",
      "- [HLT | 2025-05-22] (Score: 0.50): The performance of consumer discretionary businesses is closely linked to economic cycles. Over the past six months, it seems like demand trends are working against their favor as the industry has tum...\n",
      "- [PKG | 2025-04-26] (Score: 0.48): What trends should we look for it we want to identify stocks that can multiply in value over the long term? Amongst......\n",
      "- [APD | 2025-05-14] (Score: 0.48): To find a multi-bagger stock, what are the underlying trends we should look for in a business? Firstly, we'll want to......\n",
      "\n",
      "**Reflection:**\n",
      "- Relevance: \n",
      "- Completeness: \n",
      "- Bias or Noise: \n",
      "- Consistency: \n",
      "- Improvement Ideas: \n",
      "\n",
      "--------------------------------------------------------------------------------\n",
      "\n"
     ]
    },
    {
     "data": {
      "text/markdown": [
       "### Question 3: What risks or challenges are discussed in recent news about the energy industry?"
      ],
      "text/plain": [
       "<IPython.core.display.Markdown object>"
      ]
     },
     "metadata": {},
     "output_type": "display_data"
    },
    {
     "data": {
      "text/markdown": [
       "**Generated Answer:**\n",
       "Recent news about the energy industry highlights several risks and challenges:\n",
       "\n",
       "1. **Potential Repeal of Subsidies**: Congress is advancing a bill that could eliminate key subsidies for renewable energy, potentially making projects uneconomical just as production ramps up.\n",
       "\n",
       "2. **Oil Price Declines**: Companies are facing difficulties due to sliding oil prices, which may adversely affect their financial stability.\n",
       "\n",
       "3. **Increased Tariffs**: Rising tariffs are adding financial pressure to energy companies.\n",
       "\n",
       "4. **Shrinking Drilling Budgets**: As budgets for drilling diminish, companies are uncertain about future investments and operations.\n",
       "\n",
       "These factors collectively pose significant risks to the future viability of both renewable and traditional energy sectors.\n"
      ],
      "text/plain": [
       "<IPython.core.display.Markdown object>"
      ]
     },
     "metadata": {},
     "output_type": "display_data"
    },
    {
     "name": "stdout",
     "output_type": "stream",
     "text": [
      "**Supporting News Snippets:**\n",
      "- [NEE | 2025-05-23] (Score: 0.54): Congress is pushing forward a bill that could upend the renewable energy industry.  Just as companies have ramped up production and renewable electricity generation in the U.S., those projects may bec...\n",
      "- [ENPH | 2025-05-23] (Score: 0.54): Congress is pushing forward a bill that could upend the renewable energy industry.  Just as companies have ramped up production and renewable electricity generation in the U.S., those projects may bec...\n",
      "- [HAL | 2025-05-21] (Score: 0.48): The likes of SLB, HAL and BKR face a tough future as oil prices slide, tariffs rise and drilling budgets shrink - can LNG and AI demand offer enough support?...\n",
      "- [BKR | 2025-05-21] (Score: 0.48): The likes of SLB, HAL and BKR face a tough future as oil prices slide, tariffs rise and drilling budgets shrink - can LNG and AI demand offer enough support?...\n",
      "- [FCX | 2025-05-21] (Score: 0.48): Copper is a critical metal for the U.S. industrial economy.  This American appliance maker expects the Trump administration to close loopholes that will improve its competitive positioning.  It's diff...\n",
      "\n",
      "**Reflection:**\n",
      "- Relevance: \n",
      "- Completeness: \n",
      "- Bias or Noise: \n",
      "- Consistency: \n",
      "- Improvement Ideas: \n",
      "\n",
      "--------------------------------------------------------------------------------\n",
      "\n"
     ]
    }
   ],
   "source": [
    "def run_analysis_and_reflection(questions, category_name):\n",
    "    print(f\"\\n## Category: {category_name}\\n\")\n",
    "    \n",
    "    for i, question in enumerate(questions, start=1):\n",
    "        answer, docs_used = retrieve_and_generate(question, k=5)\n",
    "        \n",
    "        print_markdown(f\"### Question {i}: {question}\")\n",
    "        print_markdown(f\"**Generated Answer:**\\n{answer}\\n\")\n",
    "        \n",
    "        print(\"**Supporting News Snippets:**\")\n",
    "        for snippet, meta, score in docs_used:\n",
    "            print(f\"- [{meta['TICKER']} | {meta['PUBLICATION_DATE']}] (Score: {score:.2f}): {snippet[:200]}...\")  # truncated\n",
    "        \n",
    "        print(\"\\n**Reflection:**\")\n",
    "        print(\"- Relevance: \")\n",
    "        print(\"- Completeness: \")\n",
    "        print(\"- Bias or Noise: \")\n",
    "        print(\"- Consistency: \")\n",
    "        print(\"- Improvement Ideas: \")\n",
    "        print(\"\\n\" + \"-\"*80 + \"\\n\")\n",
    "        time.sleep(21)\n",
    "# Provided questions\n",
    "run_analysis_and_reflection(questions_topic, \"Topic\")\n",
    "run_analysis_and_reflection(questions_company, \"Company\")\n",
    "run_analysis_and_reflection(questions_industry, \"Industry\")\n"
   ]
  },
  {
   "cell_type": "markdown",
   "id": "ae77df2b",
   "metadata": {},
   "source": [
    "## Analysis & Questions - Section 1"
   ]
  },
  {
   "cell_type": "markdown",
   "id": "3d3a75ee",
   "metadata": {},
   "source": [
    "### Analysis and Reflection on Retrieval and Generation Results\n",
    "After running the RAG pipeline and obtaining answers along with their supporting news excerpts, take some time to carefully review both the generated responses and the retrieved contexts.\n",
    "\n",
    "- **For each question, read the answer and then the corresponding news snippets used as context.**\n",
    "\n",
    "- Reflect on the following points and document your observations:\n",
    "1. **Relevance** \n",
    "2. **Completeness**  \n",
    "3. **Bias or Noise** \n",
    "4. **Consistency**  \n",
    "5. **Improvement Ideas**   \n",
    "\n",
    "and answer the questions below:"
   ]
  },
  {
   "cell_type": "markdown",
   "id": "e8f667ed",
   "metadata": {},
   "source": [
    "#### **Question 1.** How well do the retrieved news snippets support the generated answer? Are the key facts or themes in the answer clearly grounded in the context?"
   ]
  },
  {
   "cell_type": "markdown",
   "id": "992b9fe1",
   "metadata": {},
   "source": [
    "The retrieved news snippets provide strong support for the generated answer. The key facts and themes—such as inflation concerns, economic slowdown risks, investor optimism tempered by skepticism, and the growing influence of artificial intelligence in finance—are explicitly present in the snippets. These excerpts offer diverse perspectives and examples that collectively validate the answer’s main points. The context clearly grounds the response in real, recent financial news, enhancing its credibility and relevance. However, the answer could be improved by explicitly referencing specific snippets or quotes, which would demonstrate even tighter integration between the source material and the generated summary."
   ]
  },
  {
   "cell_type": "markdown",
   "id": "fe09d3d0",
   "metadata": {},
   "source": [
    "#### **Question 2.** Does the answer fully address the question, or does it leave important aspects out? Consider if the retrieved context provided enough information to generate a thorough response."
   ]
  },
  {
   "cell_type": "markdown",
   "id": "736e20f5",
   "metadata": {},
   "source": [
    "The answer addresses the core of the question by describing investor sentiment as predominantly bullish while acknowledging the presence of skepticism due to potential institutional pressures on analysts. However, it could delve deeper into how this sentiment varies across different market sectors or investor groups, which may not be fully captured in the retrieved snippets. The context provides a solid foundation but is somewhat limited in scope, focusing mainly on price targets and analyst behavior. Therefore, while the response is accurate and informative, it leaves out a more nuanced exploration of investor sentiment dynamics that could enrich the answer."
   ]
  },
  {
   "cell_type": "markdown",
   "id": "a7690337",
   "metadata": {},
   "source": [
    "#### **Question 3.** Are there any irrelevant or misleading snippets retrieved that may have influenced the answer? How might this affect the quality of the output?"
   ]
  },
  {
   "cell_type": "markdown",
   "id": "2513c47c",
   "metadata": {},
   "source": [
    "Some snippets included general market updates or broader financial news that do not directly relate to investor sentiment, which might introduce slight noise into the context. While most retrieved snippets are relevant, the presence of less focused excerpts could dilute the precision of the answer or lead to generalized statements rather than specific insights. This can affect the quality by making the response less sharp or detailed, potentially overlooking subtler nuances in investor sentiment. Improving snippet filtering or weighting relevance more strictly could enhance the output’s clarity and accuracy."
   ]
  },
  {
   "cell_type": "markdown",
   "id": "1035b3c6",
   "metadata": {},
   "source": [
    "#### **Question 4.**  Do the news snippets show consistent information, or are there conflicting viewpoints? How does the LLM handle potential contradictions in the context?"
   ]
  },
  {
   "cell_type": "markdown",
   "id": "52891908",
   "metadata": {},
   "source": [
    "The news snippets generally show consistent information, portraying investor sentiment as cautiously optimistic with some skepticism due to potential institutional biases. However, minor variations exist in tone—some snippets emphasize bullish trends, while others highlight caution or risks. The LLM appears to synthesize these viewpoints by balancing optimism with caution, producing a nuanced answer that acknowledges both positive momentum and skepticism. This suggests the model effectively integrates potentially conflicting information by presenting a balanced summary rather than favoring one perspective exclusively.  "
   ]
  },
  {
   "cell_type": "markdown",
   "id": "fd7b2d64",
   "metadata": {},
   "source": [
    "#### **Question 5.**  Based on your observations, suggest ways the retrieval or generation process could be improved (e.g., better filtering, adjusting `k`, refining prompt design)."
   ]
  },
  {
   "cell_type": "markdown",
   "id": "350d12cb",
   "metadata": {},
   "source": [
    "The retrieval and generation process could be improved by:\n",
    "\n",
    "* Implementing metadata-based filtering to focus on the most relevant and recent news snippets.\n",
    "* Dynamically adjusting the number of retrieved documents (*k*) depending on the complexity of the question or the confidence of the retrieval.\n",
    "* Optimizing the prompt design to give clearer instructions to the language model on how to handle conflicting information and prioritize key facts.\n",
    "* Introducing a re-ranking step to reorder retrieved snippets by relevance before feeding them to the model.\n",
    "* Managing the total context length to avoid exceeding model input limits, focusing on quality over quantity.\n",
    "* Incorporating a feedback loop to iteratively refine retrieval and generation based on evaluation results.\n"
   ]
  },
  {
   "cell_type": "markdown",
   "id": "c08635e8",
   "metadata": {},
   "source": [
    "## 🧠 Retrieval-Augmented Generation (RAG) v2: Adding Financial Metadata to Improve Generation\n",
    "\n",
    "👉 **Instructions**:\n",
    "\n",
    "In this part of the assignment, you’ll enhance your Retrieval-Augmented Generation (RAG) pipeline by incorporating *financial metadata* to provide more contextually rich answers.\n",
    "\n",
    "Your goal is to evaluate whether metadata such as **company name**, **sector**, and **industry** helps the LLM generate **more accurate and grounded answers** to financial questions.\n",
    "\n",
    "---\n",
    "\n",
    "### ✅ What your updated pipeline should do:\n",
    "\n",
    "- Retrieve relevant financial news articles using semantic similarity with FAISS.\n",
    "- Enrich each retrieved document with financial metadata:\n",
    "  - Ticker symbol\n",
    "  - Full company name\n",
    "  - Sector (e.g., Technology, Energy)\n",
    "  - Industry (e.g., Semiconductors, Retail)\n",
    "- Construct prompts that include both:\n",
    "  - Retrieved news text\n",
    "  - Associated metadata\n",
    "- Send the prompt to the OpenAI model to generate an informed response.\n",
    "- Return:\n",
    "  - The final answer\n",
    "  - The exact set of contextual documents used to produce that answer\n",
    "\n",
    "---\n",
    "\n",
    "### 🧪 Evaluation and Comparison:\n",
    "\n",
    "You will test your improved RAG pipeline on the same three types of questions provided earlier:\n",
    "- **Topic-focused** (e.g., inflation, interest rates)\n",
    "- **Company-focused** (e.g., questions about Tesla, Nvidia)\n",
    "- **Industry-focused** (e.g., semiconductors, utilities)\n"
   ]
  },
  {
   "cell_type": "code",
   "execution_count": 17,
   "id": "e3d062bc",
   "metadata": {},
   "outputs": [],
   "source": [
    "# CODE HERE\n",
    "# Use as many coding cells as you need\n",
    "# Function to retrieve top-k relevant documents with enriched financial metadata\n",
    "def retrieve_documents_with_metadata(query, k=5):\n",
    "    \"\"\"\n",
    "    Retrieve top-k relevant news articles along with financial metadata for each.\n",
    "    \"\"\"\n",
    "    query_embedding = model.encode([query], convert_to_numpy=True)\n",
    "    query_embedding /= np.linalg.norm(query_embedding, axis=1, keepdims=True) + 1e-10\n",
    "\n",
    "    scores, indices = faiss_index.search(query_embedding, k)\n",
    "\n",
    "    retrieved_docs = []\n",
    "    for idx, score in zip(indices[0], scores[0]):\n",
    "        news_row = df_news.iloc[idx]\n",
    "        ticker = news_row['TICKER']\n",
    "        meta_row = df_meta[df_meta['TICKER'] == ticker].iloc[0]\n",
    "\n",
    "        doc = {\n",
    "            'text': f\"{news_row['TITLE']} : {news_row['SUMMARY']}\",\n",
    "            'ticker': ticker,\n",
    "            'company_name': meta_row['COMPANY_NAME'],\n",
    "            'sector': meta_row['SECTOR'],\n",
    "            'industry': meta_row['INDUSTRY'],\n",
    "            'publication_date': news_row['PUBLICATION_DATE'],\n",
    "            'score': float(score)\n",
    "        }\n",
    "        retrieved_docs.append(doc)\n",
    "\n",
    "    return retrieved_docs\n"
   ]
  },
  {
   "cell_type": "code",
   "execution_count": 18,
   "id": "e890ca84-8466-4301-ba55-0517a90fb274",
   "metadata": {},
   "outputs": [],
   "source": [
    "# Function to build a prompt combining question, news text, and metadata\n",
    "def build_prompt_with_financial_metadata(question, retrieved_docs):\n",
    "    \"\"\"\n",
    "    Construct a prompt that provides question, contextual news, and financial metadata.\n",
    "    \"\"\"\n",
    "    context_sections = []\n",
    "    for doc in retrieved_docs:\n",
    "        section = (\n",
    "            f\"[{doc['ticker']} | {doc['company_name']} | Sector: {doc['sector']} | \"\n",
    "            f\"Industry: {doc['industry']} | Date: {doc['publication_date']}]\\n\"\n",
    "            f\"{doc['text']}\"\n",
    "        )\n",
    "        context_sections.append(section)\n",
    "\n",
    "    context_str = \"\\n\\n---\\n\\n\".join(context_sections)\n",
    "\n",
    "    prompt = f\"\"\"\n",
    "You are a financial analyst assistant.\n",
    "Answer the question below based ONLY on the following financial news excerpts and their metadata.\n",
    "\n",
    "Question:\n",
    "{question}\n",
    "\n",
    "Context:\n",
    "{context_str}\n",
    "\n",
    "Answer:\n",
    "\"\"\"\n",
    "    return prompt.strip()\n"
   ]
  },
  {
   "cell_type": "code",
   "execution_count": 19,
   "id": "6c90d999-8705-420b-bca0-341daeb7b641",
   "metadata": {},
   "outputs": [],
   "source": [
    "#Full RAG pipeline function that retrieves, builds prompt, queries LLM, and returns answer + context\n",
    "def rag_pipeline_with_metadata(question, k=5):\n",
    "    \"\"\"\n",
    "    Runs the full RAG pipeline enhanced with financial metadata.\n",
    "    \"\"\"\n",
    "    retrieved_docs = retrieve_documents_with_metadata(question, k)\n",
    "    prompt = build_prompt_with_financial_metadata(question, retrieved_docs)\n",
    "\n",
    "    response = client.responses.create(\n",
    "        model=\"gpt-4o-mini\",\n",
    "        input=prompt\n",
    "    )\n",
    "    answer = response.output_text\n",
    "    return answer, retrieved_docs\n"
   ]
  },
  {
   "cell_type": "code",
   "execution_count": 20,
   "id": "a954ee6d-a141-4e5d-9390-7c6b80867e85",
   "metadata": {},
   "outputs": [
    {
     "data": {
      "text/markdown": [
       "**Question:** How is Microsoft being portrayed in news stories about artificial intelligence?\n",
       "\n",
       "**Answer:** The excerpts provided do not explicitly mention Microsoft or its portrayal in news stories about artificial intelligence. They focus mainly on other tech companies like Meta Platforms and Salesforce. Therefore, based on the available information, Microsoft is not directly addressed or described in terms of its role or perception in relation to artificial intelligence in the provided excerpts."
      ],
      "text/plain": [
       "<IPython.core.display.Markdown object>"
      ]
     },
     "metadata": {},
     "output_type": "display_data"
    },
    {
     "name": "stdout",
     "output_type": "stream",
     "text": [
      "\n",
      "--- Context Used ---\n",
      "META | Meta Platforms, Inc. | Sector: Communication Services | Industry: Internet Content & Information | Date: 2025-05-31 | Score: 0.54\n",
      "This \"Magnificent Seven\" Stock Is Set to Skyrocket If Its AI Investments Pay Off : Meta Platforms has investments in several AI applications.  The tech giant's stock is only valued on its legacy business.  Over the past two-and-a-half years, investors have heard about various artificial intelligence (AI) investments that tech companies are making.\n",
      "\n",
      "CRM | Salesforce, Inc. | Sector: Technology | Industry: Software - Application | Date: 2025-05-29 | Score: 0.51\n",
      "How Salesforce has 'overcorrected' by leaning into AI : D.A. Davidson head of technology research Gil Luria joins Market Domination to discuss Salesforce (CRM) earnings and the company's trajectory. Luria says Salesforce is \"too focused\" on artificial intelligence (AI), as the other parts of its business \"rapidly\" decelerate and the company loses market share to competitors. Luria has the equivalent of a Sell rating on the stock. To watch more expert insights and analysis on the latest market action, check out more Market Domination here.\n",
      "\n",
      "JKHY | Jack Henry & Associates, Inc. | Sector: Technology | Industry: Information Technology Services | Date: 2025-03-17 | Score: 0.48\n",
      "Jack Henry (JKHY) Integrates AI-Driven Lending Tech With Algebrik : We recently published a list of 12 AI News Investors Should Not Miss This Week. In this article, we are going to take a look at where Jack Henry & Associates, Inc. (NASDAQ:JKHY) stands against other AI news Investors should not miss this week. Artificial Intelligence (AI) is known to increase productivity, decrease human error, […]\n",
      "\n",
      "NFLX | Netflix, Inc. | Sector: Communication Services | Industry: Entertainment | Date: 2025-05-29 | Score: 0.46\n",
      "2 Underrated Artificial Intelligence (AI) Stocks to Buy and Hold : Generative AI can simplify and speed up many tasks, including content production.  It's easy to see the potential for Netflix, whose content strategy is integral to its success.  Netflix's creations have attracted millions of viewers and won many awards.\n",
      "\n",
      "META | Meta Platforms, Inc. | Sector: Communication Services | Industry: Internet Content & Information | Date: 2025-05-30 | Score: 0.46\n",
      "Meta (META) AI Reaches 1 Billion Users, Eyes Paid Features and Subscriptions : We recently published a list of 10 AI Stocks on Wall Street’s Radar. In this article, we are going to take a look at where Meta Platforms, Inc. (NASDAQ:META) stands against other AI stocks on Wall Street’s radar. Meta Platforms, Inc. (NASDAQ:META) is a global technology company. On May 28, CNBC reported that Meta Platforms, Inc. (NASDAQ:META)’s artificial […]\n",
      "\n"
     ]
    }
   ],
   "source": [
    "question = \"How is Microsoft being portrayed in news stories about artificial intelligence?\"\n",
    "answer, docs_used = rag_pipeline_with_metadata(question, k=5)\n",
    "\n",
    "print_markdown(f\"**Question:** {question}\\n\\n**Answer:** {answer}\")\n",
    "\n",
    "print(\"\\n--- Context Used ---\")\n",
    "for doc in docs_used:\n",
    "    print(f\"{doc['ticker']} | {doc['company_name']} | Sector: {doc['sector']} | Industry: {doc['industry']} | Date: {doc['publication_date']} | Score: {doc['score']:.2f}\")\n",
    "    print(doc['text'])\n",
    "    print()\n"
   ]
  },
  {
   "cell_type": "code",
   "execution_count": 22,
   "id": "fe77120d-0486-473b-a019-d585693a3ee5",
   "metadata": {},
   "outputs": [
    {
     "data": {
      "text/markdown": [
       "## Category: Topic-Focused"
      ],
      "text/plain": [
       "<IPython.core.display.Markdown object>"
      ]
     },
     "metadata": {},
     "output_type": "display_data"
    },
    {
     "data": {
      "text/markdown": [
       "### Question 1: What are the major concerns expressed in financial news about inflation?"
      ],
      "text/plain": [
       "<IPython.core.display.Markdown object>"
      ]
     },
     "metadata": {},
     "output_type": "display_data"
    },
    {
     "data": {
      "text/markdown": [
       "**Answer:**\n",
       "The major concerns expressed in the financial news about inflation include:\n",
       "\n",
       "1. **Persistent US Inflation**: There is a mounting concern from the Federal Reserve regarding ongoing inflationary pressures, which could potentially lead to an economic slowdown.\n",
       "\n",
       "2. **Food Inflation**: Increased food prices are dampening hopes for a rate cut, indicating that inflation in essential goods is impacting economic forecasts and monetary policy decisions.\n",
       "\n",
       "3. **Economic Impact**: These inflationary pressures, particularly in food, suggest broader implications for both consumer spending and economic growth, as persistent inflation could hinder the central bank's ability to adjust interest rates in response to changing economic conditions.\n"
      ],
      "text/plain": [
       "<IPython.core.display.Markdown object>"
      ]
     },
     "metadata": {},
     "output_type": "display_data"
    },
    {
     "name": "stdout",
     "output_type": "stream",
     "text": [
      "**Contextual News Snippets with Metadata:**\n",
      "- [BLK | BlackRock, Inc. | Sector: Financial Services | Industry: Asset Management | Date: 2025-05-29] (Score: 0.58)\n",
      "  Bitcoin price slips as Fed minutes flag US inflation risks : The Federal Reserve’s May policy meeting revealed mounting concern over persistent US inflation and the potential for economic slowdown....\n",
      "- [TSLA | Tesla, Inc. | Sector: Consumer Cyclical | Industry: Auto Manufacturers | Date: 2025-05-31] (Score: 0.49)\n",
      "  The Weekend: Food inflation dampens hopes of a rate cut as tariff twists and turns continue : Key moments from the last seven days, plus a glimpse at the week ahead...\n",
      "- [NVDA | NVIDIA Corporation | Sector: Technology | Industry: Semiconductors | Date: 2025-05-31] (Score: 0.49)\n",
      "  The Weekend: Food inflation dampens hopes of a rate cut as tariff twists and turns continue : Key moments from the last seven days, plus a glimpse at the week ahead...\n",
      "- [LULU | lululemon athletica inc. | Sector: Consumer Cyclical | Industry: Apparel Retail | Date: 2025-05-31] (Score: 0.49)\n",
      "  The Weekend: Food inflation dampens hopes of a rate cut as tariff twists and turns continue : Key moments from the last seven days, plus a glimpse at the week ahead...\n",
      "- [AVGO | Broadcom Inc. | Sector: Technology | Industry: Semiconductors | Date: 2025-05-31] (Score: 0.49)\n",
      "  The Weekend: Food inflation dampens hopes of a rate cut as tariff twists and turns continue : Key moments from the last seven days, plus a glimpse at the week ahead...\n",
      "\n",
      "--------------------------------------------------------------------------------\n",
      "\n"
     ]
    },
    {
     "data": {
      "text/markdown": [
       "### Question 2: How is investor sentiment described in recent financial headlines?"
      ],
      "text/plain": [
       "<IPython.core.display.Markdown object>"
      ]
     },
     "metadata": {},
     "output_type": "display_data"
    },
    {
     "data": {
      "text/markdown": [
       "**Answer:**\n",
       "Investor sentiment in recent financial headlines is characterized by a mix of optimism and skepticism. On one hand, there is a bullish outlook, with analysts highlighting attractive price targets and favorable catalysts for certain stocks, suggesting potential upside (as seen in the articles on Microchip Technology and Revvity). However, this optimism is tempered by a cautionary note regarding the reliability of these forecasts, as analysts face institutional pressures that may lead to overly positive assessments (noted in the articles about CarMax and Monolithic Power Systems). Additionally, there is recognition of bearish sentiment on specific stocks, advising investors to be cautious, particularly when Wall Street issues grim ratings (as noted with Darden Restaurants). Overall, while there is enthusiasm for certain stocks, there is also a clear call for skepticism about the underlying fundamentals and the potential influence of analyst conflicts of interest.\n"
      ],
      "text/plain": [
       "<IPython.core.display.Markdown object>"
      ]
     },
     "metadata": {},
     "output_type": "display_data"
    },
    {
     "name": "stdout",
     "output_type": "stream",
     "text": [
      "**Contextual News Snippets with Metadata:**\n",
      "- [KMX | CarMax, Inc. | Sector: Consumer Cyclical | Industry: Auto & Truck Dealerships | Date: 2025-05-26] (Score: 0.61)\n",
      "  3 of Wall Street’s Favorite Stocks Facing Headwinds : Wall Street has set ambitious price targets for the stocks in this article. While this suggests attractive upside potential, it’s important to rem...\n",
      "- [MCHP | Microchip Technology Incorporated | Sector: Technology | Industry: Semiconductors | Date: 2025-05-20] (Score: 0.60)\n",
      "  3 Hyped Up  Stocks Facing Headwinds : Great things are happening to the stocks in this article. They’re all outperforming the market over the last month because of positive catalysts such as a new pro...\n",
      "- [MPWR | Monolithic Power Systems, Inc. | Sector: Technology | Industry: Semiconductors | Date: 2025-05-06] (Score: 0.59)\n",
      "  1 of Wall Street’s Favorite Stock with Impressive Fundamentals and 2 to Think Twice About : The stocks in this article have caught Wall Street’s attention in a big way, with price targets implying ret...\n",
      "- [DRI | Darden Restaurants, Inc. | Sector: Consumer Cyclical | Industry: Restaurants | Date: 2025-05-21] (Score: 0.58)\n",
      "  1 Unpopular Stock that Should Get More Attention and 2 to Steer Clear Of : When Wall Street turns bearish on a stock, it’s worth paying attention. These calls stand out because analysts rarely issue g...\n",
      "- [RVTY | Revvity, Inc. | Sector: Healthcare | Industry: Diagnostics & Research | Date: 2025-05-23] (Score: 0.57)\n",
      "  3 of Wall Street’s Favorite Stocks with Questionable Fundamentals : Wall Street is overwhelmingly bullish on the stocks in this article, with price targets suggesting significant upside potential. How...\n",
      "\n",
      "--------------------------------------------------------------------------------\n",
      "\n"
     ]
    },
    {
     "data": {
      "text/markdown": [
       "### Question 3: What role is artificial intelligence playing in recent finance-related news stories?"
      ],
      "text/plain": [
       "<IPython.core.display.Markdown object>"
      ]
     },
     "metadata": {},
     "output_type": "display_data"
    },
    {
     "data": {
      "text/markdown": [
       "**Answer:**\n",
       "Artificial intelligence (AI) is increasingly influencing the finance sector, as noted in recent news stories. Companies are integrating AI to enhance productivity, reduce human error, and improve decision-making. For example:\n",
       "\n",
       "1. **Jack Henry & Associates** is leveraging AI-driven lending technology to streamline financial processes, enhancing efficiency in lending operations.\n",
       "  \n",
       "2. **Meta Platforms** is investing in AI applications, suggesting that its future growth may rely on these innovations rather than its traditional business model.\n",
       "\n",
       "3. **Palantir Technologies** is tapping into the demand for AI by helping both government and commercial clients utilize generative AI capabilities, particularly in analyzing and quantifying credit risk, which is essential for lenders.\n",
       "\n",
       "4. **Netflix** is exploring generative AI to optimize content production, indicating the broader utility of AI in enhancing operational effectiveness within the entertainment sector, which indirectly impacts financial performance by potentially increasing viewer engagement and revenue.\n",
       "\n",
       "Overall, AI is being recognized as a critical tool for boosting operational efficiency, improving financial analyses, and driving stock performance in the technology and finance industries.\n"
      ],
      "text/plain": [
       "<IPython.core.display.Markdown object>"
      ]
     },
     "metadata": {},
     "output_type": "display_data"
    },
    {
     "name": "stdout",
     "output_type": "stream",
     "text": [
      "**Contextual News Snippets with Metadata:**\n",
      "- [JKHY | Jack Henry & Associates, Inc. | Sector: Technology | Industry: Information Technology Services | Date: 2025-03-17] (Score: 0.70)\n",
      "  Jack Henry (JKHY) Integrates AI-Driven Lending Tech With Algebrik : We recently published a list of 12 AI News Investors Should Not Miss This Week. In this article, we are going to take a look at wher...\n",
      "- [META | Meta Platforms, Inc. | Sector: Communication Services | Industry: Internet Content & Information | Date: 2025-05-31] (Score: 0.63)\n",
      "  This \"Magnificent Seven\" Stock Is Set to Skyrocket If Its AI Investments Pay Off : Meta Platforms has investments in several AI applications.  The tech giant's stock is only valued on its legacy busin...\n",
      "- [PLTR | Palantir Technologies Inc. | Sector: Technology | Industry: Software - Infrastructure | Date: 2025-05-31] (Score: 0.62)\n",
      "  Billionaires Are Buying 2 Artificial Intelligence (AI) Stocks That Wall Street Analysts Say Can Soar Up to 240% : Several billionaire hedge fund managers bought shares of Palantir and/or Upstart in th...\n",
      "- [PLTR | Palantir Technologies Inc. | Sector: Technology | Industry: Software - Infrastructure | Date: 2025-05-31] (Score: 0.62)\n",
      "  Better Artificial Intelligence (AI) Stock: Palantir vs. Snowflake : Shares of both Palantir and Snowflake have delivered healthy gains in 2025 despite the broader stock market weakness.  Palantir stoc...\n",
      "- [NFLX | Netflix, Inc. | Sector: Communication Services | Industry: Entertainment | Date: 2025-05-29] (Score: 0.58)\n",
      "  2 Underrated Artificial Intelligence (AI) Stocks to Buy and Hold : Generative AI can simplify and speed up many tasks, including content production.  It's easy to see the potential for Netflix, whose ...\n",
      "\n",
      "--------------------------------------------------------------------------------\n",
      "\n"
     ]
    },
    {
     "data": {
      "text/markdown": [
       "## Category: Company-Focused"
      ],
      "text/plain": [
       "<IPython.core.display.Markdown object>"
      ]
     },
     "metadata": {},
     "output_type": "display_data"
    },
    {
     "data": {
      "text/markdown": [
       "### Question 1: How is Microsoft being portrayed in news stories about artificial intelligence?"
      ],
      "text/plain": [
       "<IPython.core.display.Markdown object>"
      ]
     },
     "metadata": {},
     "output_type": "display_data"
    },
    {
     "data": {
      "text/markdown": [
       "**Answer:**\n",
       "Based on the provided excerpts, Microsoft is not explicitly mentioned in any of the news snippets. Therefore, there is no portrayal or discussion of Microsoft in relation to artificial intelligence within the context of these excerpts. The articles focus on other tech companies like Meta Platforms, Salesforce, and Netflix, discussing their AI investments and strategies, but do not include any specifics or references to Microsoft.\n"
      ],
      "text/plain": [
       "<IPython.core.display.Markdown object>"
      ]
     },
     "metadata": {},
     "output_type": "display_data"
    },
    {
     "name": "stdout",
     "output_type": "stream",
     "text": [
      "**Contextual News Snippets with Metadata:**\n",
      "- [META | Meta Platforms, Inc. | Sector: Communication Services | Industry: Internet Content & Information | Date: 2025-05-31] (Score: 0.54)\n",
      "  This \"Magnificent Seven\" Stock Is Set to Skyrocket If Its AI Investments Pay Off : Meta Platforms has investments in several AI applications.  The tech giant's stock is only valued on its legacy busin...\n",
      "- [CRM | Salesforce, Inc. | Sector: Technology | Industry: Software - Application | Date: 2025-05-29] (Score: 0.51)\n",
      "  How Salesforce has 'overcorrected' by leaning into AI : D.A. Davidson head of technology research Gil Luria joins Market Domination to discuss Salesforce (CRM) earnings and the company's trajectory. L...\n",
      "- [JKHY | Jack Henry & Associates, Inc. | Sector: Technology | Industry: Information Technology Services | Date: 2025-03-17] (Score: 0.48)\n",
      "  Jack Henry (JKHY) Integrates AI-Driven Lending Tech With Algebrik : We recently published a list of 12 AI News Investors Should Not Miss This Week. In this article, we are going to take a look at wher...\n",
      "- [NFLX | Netflix, Inc. | Sector: Communication Services | Industry: Entertainment | Date: 2025-05-29] (Score: 0.46)\n",
      "  2 Underrated Artificial Intelligence (AI) Stocks to Buy and Hold : Generative AI can simplify and speed up many tasks, including content production.  It's easy to see the potential for Netflix, whose ...\n",
      "- [META | Meta Platforms, Inc. | Sector: Communication Services | Industry: Internet Content & Information | Date: 2025-05-30] (Score: 0.46)\n",
      "  Meta (META) AI Reaches 1 Billion Users, Eyes Paid Features and Subscriptions : We recently published a list of 10 AI Stocks on Wall Street’s Radar. In this article, we are going to take a look at wher...\n",
      "\n",
      "--------------------------------------------------------------------------------\n",
      "\n"
     ]
    },
    {
     "data": {
      "text/markdown": [
       "### Question 2: What financial news headlines connect Amazon with automation or logistics?"
      ],
      "text/plain": [
       "<IPython.core.display.Markdown object>"
      ]
     },
     "metadata": {},
     "output_type": "display_data"
    },
    {
     "data": {
      "text/markdown": [
       "**Answer:**\n",
       "The financial news headlines that connect Amazon with automation or logistics are:\n",
       "\n",
       "1. **Amazon's AI Roadmap With AWS CEO Garman:** This article discusses how every aspect of Amazon is leveraging artificial intelligence, implying a connection to automation in its logistics and operational processes.\n",
       "\n",
       "2. **Truist Reiterates Buy on Amazon.com (AMZN) as Q2 Revenue Tracks Ahead:** This piece mentions Amazon in the context of AI stocks, which often relates to automation technologies within e-commerce and logistics.\n",
       "\n",
       "3. **Woodward's Volumes, Automation to Drive Earnings Growth, Truist Says:** Though not directly mentioning Amazon, it highlights automation as a key driver for earnings, which is relevant to companies like Amazon that are heavily invested in logistics and operational efficiencies through automation. \n",
       "\n",
       "These excerpts highlight Amazon's integration of AI and automation strategies within its business framework.\n"
      ],
      "text/plain": [
       "<IPython.core.display.Markdown object>"
      ]
     },
     "metadata": {},
     "output_type": "display_data"
    },
    {
     "name": "stdout",
     "output_type": "stream",
     "text": [
      "**Contextual News Snippets with Metadata:**\n",
      "- [TFC | Truist Financial Corporation | Sector: Financial Services | Industry: Banks - Regional | Date: 2025-05-25] (Score: 0.60)\n",
      "  Truist Reiterates Buy on Amazon.com (AMZN) as Q2 Revenue Tracks Ahead : We recently published a list of 10 AI Stocks on Wall Street’s Radar. In this article, we are going to take a look at where Amazo...\n",
      "- [AMZN | Amazon.com, Inc. | Sector: Consumer Cyclical | Industry: Internet Retail | Date: 2025-05-30] (Score: 0.52)\n",
      "  Amazon's AI Roadmap With AWS CEO Garman : Every aspect of Amazon is leveraging artificial intelligence, says Matt Garman, CEO of Amazon Web Services. Garman discusses Amazon's AI roadmap and reflects ...\n",
      "- [TFC | Truist Financial Corporation | Sector: Financial Services | Industry: Banks - Regional | Date: 2025-05-23] (Score: 0.52)\n",
      "  Woodward's Volumes, Automation to Drive Earnings Growth, Truist Says : Woodward's (WWD) increasing volumes, pricing, automation, and products will push its aerospace margi...\n",
      "- [AON | Aon plc | Sector: Financial Services | Industry: Insurance Brokers | Date: 2025-04-30] (Score: 0.51)\n",
      "  Top Stock Reports for Amazon.com, Johnson & Johnson & Cisco Systems : Today's Research Daily features new research reports on 16 major stocks, including Amazon.com, Inc. (AMZN), Johnson & Johnson (JNJ...\n",
      "- [CHRW | C.H. Robinson Worldwide, Inc. | Sector: Industrials | Industry: Integrated Freight & Logistics | Date: 2025-05-23] (Score: 0.50)\n",
      "  Winners And Losers Of Q1: C.H. Robinson Worldwide (NASDAQ:CHRW) Vs The Rest Of The Air Freight and Logistics Stocks : As the craze of earnings season draws to a close, here’s a look back at some of th...\n",
      "\n",
      "--------------------------------------------------------------------------------\n",
      "\n"
     ]
    },
    {
     "data": {
      "text/markdown": [
       "## Category: Industry-Focused"
      ],
      "text/plain": [
       "<IPython.core.display.Markdown object>"
      ]
     },
     "metadata": {},
     "output_type": "display_data"
    },
    {
     "data": {
      "text/markdown": [
       "### Question 1: What are the main themes emerging in financial news about the semiconductor industry?"
      ],
      "text/plain": [
       "<IPython.core.display.Markdown object>"
      ]
     },
     "metadata": {},
     "output_type": "display_data"
    },
    {
     "data": {
      "text/markdown": [
       "**Answer:**\n",
       "The main themes emerging in financial news about the semiconductor industry include:\n",
       "\n",
       "1. **International Revenue Trends**: There is a significant focus on companies like ON Semiconductor Corporation and their international revenue performance, highlighting its influence on stock forecasts and market expectations.\n",
       "\n",
       "2. **Investor Interest and Stock Performance**: There's notable attention from investors towards ON Semiconductor, as indicated by discussions about its earnings and stock potential, suggesting a trend of rising interest and analysis of specific semiconductor stocks.\n",
       "\n",
       "3. **Earnings Outlook**: There are mixed views on earnings reports within the sector, with some optimism despite soft earnings, reflecting the volatility and varying investor sentiment in the semiconductor industry.\n",
       "\n",
       "4. **Stock Picks and Investment Strategies**: Mention of high-profile investors, such as billionaire Glenn Russell Dubin, emphasizes the strategic insights into semiconductor stocks, suggesting a search for growth opportunities within the sector.\n",
       "\n",
       "5. **Market Analysis Post-Earnings Season**: The aftermath of earnings seasons is highlighted as a critical time for analyzing stock performance and identifying potential winners among semiconductor companies. \n",
       "\n",
       "These themes illustrate an active interest in revenue dynamics, investor behavior, earnings analysis, and broader market opportunities within the semiconductor industry.\n"
      ],
      "text/plain": [
       "<IPython.core.display.Markdown object>"
      ]
     },
     "metadata": {},
     "output_type": "display_data"
    },
    {
     "name": "stdout",
     "output_type": "stream",
     "text": [
      "**Contextual News Snippets with Metadata:**\n",
      "- [ON | ON Semiconductor Corporation | Sector: Technology | Industry: Semiconductors | Date: 2025-05-13] (Score: 0.64)\n",
      "  Investing in ON Semiconductor Corp. (ON)? Don't Miss Assessing Its International Revenue Trends : Explore ON Semiconductor Corp.'s (ON) international revenue trends and how these numbers impact Wall S...\n",
      "- [ON | ON Semiconductor Corporation | Sector: Technology | Industry: Semiconductors | Date: 2025-05-21] (Score: 0.58)\n",
      "  ON Semiconductor Corporation (ON) is Attracting Investor Attention: Here is What You Should Know : Recently, Zacks.com users have been paying close attention to ON Semiconductor Corp. (ON). This makes...\n",
      "- [ON | ON Semiconductor Corporation | Sector: Technology | Industry: Semiconductors | Date: 2025-05-12] (Score: 0.56)\n",
      "  Some May Be Optimistic About ON Semiconductor's (NASDAQ:ON) Earnings : Soft earnings didn't appear to concern ON Semiconductor Corporation's ( NASDAQ:ON ) shareholders over the last week......\n",
      "- [ADI | Analog Devices, Inc. | Sector: Technology | Industry: Semiconductors | Date: 2025-05-29] (Score: 0.55)\n",
      "  Spotting Winners: Vishay Intertechnology (NYSE:VSH) And Analog Semiconductors Stocks In Q1 : The end of an earnings season can be a great time to discover new stocks and assess how companies are handl...\n",
      "- [ON | ON Semiconductor Corporation | Sector: Technology | Industry: Semiconductors | Date: 2025-05-11] (Score: 0.53)\n",
      "  ON Semiconductor (ON): Among Billionaire Glenn Russell Dubin’s Stock Picks with Huge Upside Potential : We recently published a list of Billionaire Glenn Russell Dubin’s 10 Stock Picks with Huge Upsid...\n",
      "\n",
      "--------------------------------------------------------------------------------\n",
      "\n"
     ]
    },
    {
     "data": {
      "text/markdown": [
       "### Question 2: What trends are being reported in the retail industry?"
      ],
      "text/plain": [
       "<IPython.core.display.Markdown object>"
      ]
     },
     "metadata": {},
     "output_type": "display_data"
    },
    {
     "data": {
      "text/markdown": [
       "**Answer:**\n",
       "The retail industry is experiencing a notable decline, with retail stocks dropping by 13.7% over the past six months, significantly worse than the S&P 500's 5.5% loss. This downturn is attributed to volatile consumer demand and economic cycles affecting discretionary spending. Additionally, retailers are adapting by modifying their supply chains in response to challenges such as tariff policies, indicating an ongoing shift in business models due to technological advancements and external economic factors.\n"
      ],
      "text/plain": [
       "<IPython.core.display.Markdown object>"
      ]
     },
     "metadata": {},
     "output_type": "display_data"
    },
    {
     "name": "stdout",
     "output_type": "stream",
     "text": [
      "**Contextual News Snippets with Metadata:**\n",
      "- [KMX | CarMax, Inc. | Sector: Consumer Cyclical | Industry: Auto & Truck Dealerships | Date: 2025-05-12] (Score: 0.59)\n",
      "  3 Consumer Stocks That Concern Us : Retailers are adapting their business models as technology changes how people shop. Still, demand can be volatile as the industry is exposed to the ups and downs of...\n",
      "- [BBY | Best Buy Co., Inc. | Sector: Consumer Cyclical | Industry: Specialty Retail | Date: 2025-05-29] (Score: 0.51)\n",
      "  Retailers, Ducking Trade-War Curveballs, Stick to Their Plans : As legal rulings roll in on Trump’s tariff policies, retail executives say they have shifted their supply chains and many price increase...\n",
      "- [HLT | Hilton Worldwide Holdings Inc. | Sector: Consumer Cyclical | Industry: Lodging | Date: 2025-05-22] (Score: 0.50)\n",
      "  3 Consumer Stocks Skating on Thin Ice : The performance of consumer discretionary businesses is closely linked to economic cycles. Over the past six months, it seems like demand trends are working aga...\n",
      "- [PKG | Packaging Corporation of America | Sector: Consumer Cyclical | Industry: Packaging & Containers | Date: 2025-04-26] (Score: 0.48)\n",
      "  Packaging Corporation of America (NYSE:PKG) Hasn't Managed To Accelerate Its Returns : What trends should we look for it we want to identify stocks that can multiply in value over the long term? Among...\n",
      "- [APD | Air Products and Chemicals, Inc. | Sector: Basic Materials | Industry: Specialty Chemicals | Date: 2025-05-14] (Score: 0.48)\n",
      "  Air Products and Chemicals (NYSE:APD) Will Be Hoping To Turn Its Returns On Capital Around : To find a multi-bagger stock, what are the underlying trends we should look for in a business? Firstly, we'...\n",
      "\n",
      "--------------------------------------------------------------------------------\n",
      "\n"
     ]
    },
    {
     "data": {
      "text/markdown": [
       "### Question 3: What risks or challenges are discussed in recent news about the energy industry?"
      ],
      "text/plain": [
       "<IPython.core.display.Markdown object>"
      ]
     },
     "metadata": {},
     "output_type": "display_data"
    },
    {
     "data": {
      "text/markdown": [
       "**Answer:**\n",
       "Recent news about the energy industry highlights several significant risks and challenges:\n",
       "\n",
       "1. **Legislative Risks for Renewable Energy**: A proposed bill in Congress threatens to repeal crucial subsidies for the renewable energy sector, which could render many newly ramped-up production projects uneconomical. This legislative move poses an existential threat to the industry, leading to crashing stock values for renewable energy companies.\n",
       "\n",
       "2. **Volatility in Oil Prices**: The oil sector faces uncertainty as oil prices decline, which can impact profitability and operational budgets. Companies in oilfield services, like Halliburton and Baker Hughes, are particularly vulnerable to these price fluctuations.\n",
       "\n",
       "3. **Rising Tariffs**: Increasing tariffs are affecting operational costs and competitiveness within the oil and gas equipment sector. This adds another layer of financial strain on companies that are already dealing with shrinking drilling budgets.\n",
       "\n",
       "4. **Uncertain Demand**: While there is potential support from LNG (liquefied natural gas) and AI (artificial intelligence) demand, the overall future outlook remains uncertain for companies in the oilfield service market given the combination of falling prices and rising costs.\n",
       "\n",
       "These challenges collectively indicate a turbulent environment for the energy sector, particularly for renewable sources and traditional oil and gas operations.\n"
      ],
      "text/plain": [
       "<IPython.core.display.Markdown object>"
      ]
     },
     "metadata": {},
     "output_type": "display_data"
    },
    {
     "name": "stdout",
     "output_type": "stream",
     "text": [
      "**Contextual News Snippets with Metadata:**\n",
      "- [NEE | NextEra Energy, Inc. | Sector: Utilities | Industry: Utilities - Regulated Electric | Date: 2025-05-23] (Score: 0.54)\n",
      "  Renewable Energy Stocks Crash as U.S. Advances Bill That Could Decimate the Industry : Congress is pushing forward a bill that could upend the renewable energy industry.  Just as companies have ramped...\n",
      "- [ENPH | Enphase Energy, Inc. | Sector: Technology | Industry: Solar | Date: 2025-05-23] (Score: 0.54)\n",
      "  Renewable Energy Stocks Crash as U.S. Advances Bill That Could Decimate the Industry : Congress is pushing forward a bill that could upend the renewable energy industry.  Just as companies have ramped...\n",
      "- [HAL | Halliburton Company | Sector: Energy | Industry: Oil & Gas Equipment & Services | Date: 2025-05-21] (Score: 0.48)\n",
      "  Tariffs, Prices, and Pain: What's Next for Oilfield Service? : The likes of SLB, HAL and BKR face a tough future as oil prices slide, tariffs rise and drilling budgets shrink - can LNG and AI demand o...\n",
      "- [BKR | Baker Hughes Company | Sector: Energy | Industry: Oil & Gas Equipment & Services | Date: 2025-05-21] (Score: 0.48)\n",
      "  Tariffs, Prices, and Pain: What's Next for Oilfield Service? : The likes of SLB, HAL and BKR face a tough future as oil prices slide, tariffs rise and drilling budgets shrink - can LNG and AI demand o...\n",
      "- [FCX | Freeport-McMoRan Inc. | Sector: Basic Materials | Industry: Copper | Date: 2025-05-21] (Score: 0.48)\n",
      "  3 American Companies Investors Need to Know Amid Trump's Tariff Wars : Copper is a critical metal for the U.S. industrial economy.  This American appliance maker expects the Trump administration to cl...\n",
      "\n",
      "--------------------------------------------------------------------------------\n",
      "\n"
     ]
    }
   ],
   "source": [
    "def run_rag_on_questions(questions, category_name):\n",
    "    print_markdown(f\"## Category: {category_name}\")\n",
    "    for i, question in enumerate(questions, start=1):\n",
    "        while True:\n",
    "            try:\n",
    "                answer, docs_used = rag_pipeline_with_metadata(question, k=5)\n",
    "                break\n",
    "            except httpx.HTTPStatusError as e:\n",
    "                # Check if it's a 429 rate limit error\n",
    "                if e.response.status_code == 429:\n",
    "                    print(\"Rate limit reached. Waiting 20 seconds before retrying...\")\n",
    "                    time.sleep(20)\n",
    "                else:\n",
    "                    raise\n",
    "        print_markdown(f\"### Question {i}: {question}\")\n",
    "        print_markdown(f\"**Answer:**\\n{answer}\\n\")\n",
    "        print(\"**Contextual News Snippets with Metadata:**\")\n",
    "        for doc in docs_used:\n",
    "            print(f\"- [{doc['ticker']} | {doc['company_name']} | Sector: {doc['sector']} | Industry: {doc['industry']} | Date: {doc['publication_date']}] (Score: {doc['score']:.2f})\")\n",
    "            print(f\"  {doc['text'][:200]}...\")  # Truncated snippet\n",
    "        print(\"\\n\" + \"-\"*80 + \"\\n\")\n",
    "\n",
    "# Run for all three question categories\n",
    "run_rag_on_questions(questions_topic, \"Topic-Focused\")\n",
    "run_rag_on_questions(questions_company, \"Company-Focused\")\n",
    "run_rag_on_questions(questions_industry, \"Industry-Focused\")"
   ]
  },
  {
   "cell_type": "markdown",
   "id": "80f53c26",
   "metadata": {},
   "source": [
    "## Analysis & Questions - Section 2"
   ]
  },
  {
   "cell_type": "markdown",
   "id": "cfbff478",
   "metadata": {},
   "source": [
    "### Instructions: Evaluate Answers With and Without Metadata\n",
    "\n",
    "For each question, compare the two answers provided:\n",
    "- One generated **without** metadata\n",
    "- One generated **with** metadata\n",
    "\n",
    "---\n",
    "\n",
    "### Steps:\n",
    "\n",
    "1. Use the following evaluation criteria:\n",
    "   - Clarity\n",
    "   - Detail & Depth\n",
    "   - Use of Context\n",
    "   - Accuracy & Grounding\n",
    "   - Relevance\n",
    "   - Narrrative Flow\n",
    "\n",
    "2. For each criterion, write brief notes comparing how the answer **without metadata** performs versus the answer **with metadata**.\n",
    "\n",
    "3. Summarize your evaluation in a markdown table with the following columns:\n",
    "\n",
    "| Criteria       | WITHOUT METADATA            | WITH METADATA             |\n",
    "|----------------|----------------------------|--------------------------|\n",
    "| Clarity        | [Your brief note here]     | [Your brief note here]   |\n",
    "| Detail & Depth         | [Your brief note here]     | [Your brief note here]   |\n",
    "| Use of Context        | [Your brief note here]     | [Your brief note here]   |\n",
    "| Accuracy & Grounding       | [Your brief note here]     | [Your brief note here]   |\n",
    "| Relevance      | [Your brief note here]     | [Your brief note here]   |\n",
    "| Narrative Flow      | [Your brief note here]     | [Your brief note here]   |\n",
    "\n",
    "---\n",
    "\n",
    "**Note:** Keep comments short and clear for easy comparison.\n",
    "\n"
   ]
  },
  {
   "cell_type": "markdown",
   "id": "68382a23",
   "metadata": {},
   "source": [
    "### General comparison\n",
    "\n",
    "| Criteria           | WITHOUT METADATA                                                                                       | WITH METADATA                                                                                                     |\n",
    "|--------------------|------------------------------------------------------------------------------------------------------|------------------------------------------------------------------------------------------------------------------|\n",
    "| Clarity            | Answers are clear but limited to ticker and date context; can cause confusion about source.           | Much clearer by showing company name, sector, industry, and date; helps understand the context supporting the answer. |\n",
    "| Detail & Depth     | Answers contain basic information but lack the rich context that could add depth.                     | Answers keep the same content but are enriched with context that adds depth and better justification.              |\n",
    "| Use of Context     | Poor context; only snippets with ticker and date, no info to assess relevance or bias.                | Enriched context with metadata allows better assessment of snippet relevance and source origin.                    |\n",
    "| Accuracy & Grounding| Answers are accurate per snippets but lack the ability to verify exactness or biases.                 | Greater grounding by clearly identifying source and sector, increasing confidence in accuracy.                     |\n",
    "| Relevance          | Answers are relevant but less transparent on how each snippet contributes to the answer.              | Relevance is easier to validate thanks to transparency of origin and characteristics of retrieved content.         |\n",
    "| Narrative Flow     | Adequate flow, though limited by the lack of enriched context.                                       | Better narrative flow as detailed context helps integrate information more cohesively.                             |\n",
    "\n",
    "\n",
    "---\n",
    "\n",
    "### Question 1: What are the major concerns expressed in financial news about inflation?\n",
    "\n",
    "| Criteria                 | WITHOUT METADATA                                                                                                  | WITH METADATA                                                                                                 |\n",
    "| ------------------------ | ----------------------------------------------------------------------------------------------------------------- | ------------------------------------------------------------------------------------------------------------- |\n",
    "| **Clarity**              | Clear but very brief and generic: mentions \"persistent US inflation\" and \"economic slowdown\" without elaboration. | Much clearer, explicitly breaks down inflation concerns into persistence, food inflation, and tariff impacts. |\n",
    "| **Detail & Depth**       | Lacks detail beyond naming two broad concerns.                                                                    | Adds depth by explaining how food inflation affects rate cut hopes and how tariffs complicate outlook.        |\n",
    "| **Use of Context**       | Includes news snippets but doesn't explicitly relate them to the answer content.                                  | Integrates news snippets with metadata that directly support each concern, improving context and evidence.    |\n",
    "| **Accuracy & Grounding** | Accurate but unsupported by explicit source citations or company/sector context.                                  | Well-grounded with dates, company names, sectors, and news headlines supporting each key point.               |\n",
    "| **Relevance**            | Focuses on inflation broadly but omits some nuances (e.g., food inflation).                                       | More relevant and comprehensive by covering specific inflation factors and their economic implications.       |\n",
    "| **Narrative Flow**       | Mostly a simple list of concerns with minimal transitions.                                                        | Smooth flow connecting persistent inflation concerns to economic consequences, creating a cohesive narrative. |\n",
    "\n",
    "---\n",
    "\n",
    "### Question 2: How is investor sentiment described in recent financial headlines?\n",
    "\n",
    "| Criteria                 | WITHOUT METADATA                                                                                        | WITH METADATA                                                                                                      |\n",
    "| ------------------------ | ------------------------------------------------------------------------------------------------------- | ------------------------------------------------------------------------------------------------------------------ |\n",
    "| **Clarity**              | Fairly clear but somewhat generic: bullish sentiment and cautious notes are stated without elaboration. | Clearer explanation of optimism tempered by skepticism due to institutional pressures, with examples.              |\n",
    "| **Detail & Depth**       | Mentions bullishness and skepticism but doesn’t elaborate on why or how this manifests in headlines.    | Explains analyst behavior, rare bearish ratings, and gives concrete context about market dynamics.                 |\n",
    "| **Use of Context**       | News snippets provided but not explicitly tied to answer elements.                                      | Uses metadata news snippets to reinforce points about analyst optimism, skepticism, and bearish calls.             |\n",
    "| **Accuracy & Grounding** | Generally accurate but without explicit source attribution or dates.                                    | Strongly grounded with dates, company info, and headline summaries supporting each sentiment aspect.               |\n",
    "| **Relevance**            | Relevant but misses nuance on the pressure analysts face and rarity of bearish ratings.                 | Highly relevant with added insight into market psychology and investor caution.                                    |\n",
    "| **Narrative Flow**       | Basic flow presenting optimism then caution; somewhat flat.                                             | More engaging narrative explaining why optimism exists but why skepticism is warranted, with smoother transitions. |\n",
    "\n",
    "---\n",
    "\n",
    "### Question 3: What role is artificial intelligence playing in recent finance-related news stories?\n",
    "\n",
    "| Criteria                 | WITHOUT METADATA                                                                      | WITH METADATA                                                                                                 |\n",
    "| ------------------------ | ------------------------------------------------------------------------------------- | ------------------------------------------------------------------------------------------------------------- |\n",
    "| **Clarity**              | Clear overview of AI’s role but a bit high-level and generic.                         | Clear and specific examples of AI use in lending, investment, stock performance, and generative AI.           |\n",
    "| **Detail & Depth**       | Basic summary of AI’s impact, lacking detailed company-specific examples or outcomes. | Provides multiple company-specific cases (Jack Henry, Meta, Palantir, Netflix) illustrating AI’s impact.      |\n",
    "| **Use of Context**       | Supporting snippets are shown but not explicitly referenced.                          | Explicitly integrates metadata snippets tied to specific claims about AI, enhancing credibility.              |\n",
    "| **Accuracy & Grounding** | Accurate but no direct citations or evidence linking answer to sources.               | Well-grounded with dates, sectors, companies, and quotes to back AI-related statements.                       |\n",
    "| **Relevance**            | Relevant but a bit general and missing the financial performance angle.               | More relevant with connections to investor interest and stock market performance driven by AI.                |\n",
    "| **Narrative Flow**       | Lists AI impacts without much narrative cohesion.                                     | Narratively cohesive with a story of how AI drives innovation, investment, and business process improvements. |\n",
    "\n",
    "---\n",
    "\n",
    "### Company Category — Question 1: How is Microsoft being portrayed in news stories about artificial intelligence?\n",
    "\n",
    "| Criteria                 | WITHOUT METADATA                                        | WITH METADATA                                                                                    |\n",
    "| ------------------------ | ------------------------------------------------------- | ------------------------------------------------------------------------------------------------ |\n",
    "| **Clarity**              | States inability to answer due to lack of info clearly. | Same clear explanation that no relevant info about Microsoft AI portrayal was found in the data. |\n",
    "| **Detail & Depth**       | Limited but appropriate given lack of data.             | Appropriately concise given no relevant context is present.                                      |\n",
    "| **Use of Context**       | None, as no relevant info to analyze.                   | Context snippets confirm absence of Microsoft references.                                        |\n",
    "| **Accuracy & Grounding** | Correctly avoids speculation without data.              | Properly grounded by the absence of evidence.                                                    |\n",
    "| **Relevance**            | Relevant given question constraints.                    | Relevant and honest about data limitations.                                                      |\n",
    "| **Narrative Flow**       | Straightforward and to the point.                       | Equally straightforward, no extra narrative needed due to data limitations.                      |\n",
    "\n",
    "---\n",
    "\n",
    "### Company Category — Question 2: What financial news headlines connect Amazon with automation or logistics?\n",
    "\n",
    "| Criteria                 | WITHOUT METADATA                                                                               | WITH METADATA                                                                                                         |\n",
    "| ------------------------ | ---------------------------------------------------------------------------------------------- | --------------------------------------------------------------------------------------------------------------------- |\n",
    "| **Clarity**              | Clear but slightly vague: connects Amazon to AI generally without specific logistics examples. | Clearer with explicit references to AWS CEO statements on AI and indirect ties to logistics automation.               |\n",
    "| **Detail & Depth**       | Basic answer with limited detail on automation or logistics.                                   | Adds nuance on headline contents, CEO quotes, and how AI relates to automation and logistics in operations.           |\n",
    "| **Use of Context**       | Snippets shown but not explicitly tied to answer details.                                      | Metadata clearly referenced, highlighting dates, companies, and specific headlines connecting Amazon with automation. |\n",
    "| **Accuracy & Grounding** | Correct but not strongly sourced or detailed.                                                  | Strongly grounded with source details reinforcing answer credibility.                                                 |\n",
    "| **Relevance**            | Relevant but missing concrete logistics automation references.                                 | More relevant with clear evidence linking Amazon’s AI roadmap to logistics automation.                                |\n",
    "| **Narrative Flow**       | Functional but somewhat list-like.                                                             | Better flow connecting the dots between AI, automation, and Amazon logistics strategy.                                |\n",
    "\n",
    "---\n",
    "\n",
    "### Industry Category — Question 1: What are the main themes emerging in financial news about the semiconductor industry?\n",
    "\n",
    "| Criteria                 | WITHOUT METADATA                                                                      | WITH METADATA                                                                                     |\n",
    "| ------------------------ | ------------------------------------------------------------------------------------- | ------------------------------------------------------------------------------------------------- |\n",
    "| **Clarity**              | Clear listing of themes like revenue, investor sentiment, earnings, growth potential. | Same clarity but with more detailed explanation and specific company mentions and dates.          |\n",
    "| **Detail & Depth**       | Basic but covers multiple themes broadly.                                             | Deeper coverage including concrete company examples and investment contexts.                      |\n",
    "| **Use of Context**       | Context snippets included but not explicitly tied to each theme.                      | Strong contextual integration with metadata reinforcing points with company and sector specifics. |\n",
    "| **Accuracy & Grounding** | Accurate but lacks citations linking back to snippets explicitly.                     | Well-grounded with references to companies, dates, and detailed snippet info.                     |\n",
    "| **Relevance**            | Relevant to semiconductor themes but somewhat generic.                                | Highly relevant and specific to semiconductor industry trends and investor behavior.              |\n",
    "| **Narrative Flow**       | Basic flow with list structure.                                                       | More narrative coherence tying themes together and showing relationships between them.            |\n",
    "\n",
    "---\n",
    "\n",
    "### Industry Category — Question 2: What trends are being reported in the retail industry?\n",
    "\n",
    "| Criteria                 | WITHOUT METADATA                                                                   | WITH METADATA                                                                        |\n",
    "| ------------------------ | ---------------------------------------------------------------------------------- | ------------------------------------------------------------------------------------ |\n",
    "| **Clarity**              | Clear presentation of key trends like technology adaptation and demand volatility. | Clear with more detailed elaboration on each trend and its implications.             |\n",
    "| **Detail & Depth**       | Covers main trends but briefly and somewhat superficially.                         | Greater detail including stock performance data and trade policy effects.            |\n",
    "| **Use of Context**       | Context snippets present but not explicitly linked to claims.                      | Explicitly references metadata snippets, improving source credibility.               |\n",
    "| **Accuracy & Grounding** | Accurate overall but without specific citations or numbers.                        | Well-supported with concrete dates, stock performance stats, and company details.    |\n",
    "| **Relevance**            | Relevant to retail but lacking in some specific details.                           | More relevant with complete coverage of economic, technological, and policy impacts. |\n",
    "| **Narrative Flow**       | Basic and list-like.                                                               | Better flow with connections drawn between trends and their effects on the industry. |\n",
    "\n",
    "---\n",
    "\n",
    "### Industry Category — Question 3: What risks or challenges are discussed in recent news about the energy industry?\n",
    "\n",
    "| Criteria                 | WITHOUT METADATA                                              | WITH METADATA                                                                                             |\n",
    "| ------------------------ | ------------------------------------------------------------- | --------------------------------------------------------------------------------------------------------- |\n",
    "| **Clarity**              | Clear overview of legislative, market, and economic risks.    | Clear and more detailed explanation of specific legislative bills, company impacts, and economic factors. |\n",
    "| **Detail & Depth**       | Summarizes risks but lacks company-level examples and nuance. | Deeper detail including specific company challenges and legislative context.                              |\n",
    "| **Use of Context**       | News snippets included but not explicitly tied to points.     | Metadata references back each risk with dates, company names, and sectors for credibility.                |\n",
    "| **Accuracy & Grounding** | Accurate but less evidence-linked.                            | Strong grounding with specific data points and snippet metadata.                                          |\n",
    "| **Relevance**            | Relevant but misses some detail on industry impacts.          | More comprehensive and relevant by covering both renewable and fossil fuel sectors in detail.             |\n",
    "| **Narrative Flow**       | Functional but somewhat fragmented list.                      | Better flow with logical sequencing of risks and challenges creating a coherent picture.                  |\n",
    "\n",
    "---\n"
   ]
  },
  {
   "cell_type": "code",
   "execution_count": null,
   "id": "11faa002-c67e-4cef-a4a1-8f2da787286b",
   "metadata": {},
   "outputs": [],
   "source": []
  }
 ],
 "metadata": {
  "kernelspec": {
   "display_name": "Python 3 (ipykernel)",
   "language": "python",
   "name": "python3"
  },
  "language_info": {
   "codemirror_mode": {
    "name": "ipython",
    "version": 3
   },
   "file_extension": ".py",
   "mimetype": "text/x-python",
   "name": "python",
   "nbconvert_exporter": "python",
   "pygments_lexer": "ipython3",
   "version": "3.11.2"
  }
 },
 "nbformat": 4,
 "nbformat_minor": 5
}
